{
 "cells": [
  {
   "cell_type": "markdown",
   "id": "6e4f057f",
   "metadata": {},
   "source": [
    "**Анализ аренд самокатов. В этом проекте с помощью собранных для нас баз данных мы проверим гипотезы которые смогут помочь бизнесу вырасти.\n",
    "Основной вопрос действительно ли пользователи с подпиской приносят больше прибыли компании нежели без неё**"
   ]
  },
  {
   "cell_type": "code",
   "execution_count": 1,
   "id": "72576667",
   "metadata": {},
   "outputs": [],
   "source": [
    "import pandas as pd\n",
    "import matplotlib.pyplot as plt\n",
    "import numpy as np\n",
    "import scipy.stats as stats\n",
    "from scipy import stats as st\n",
    "import math"
   ]
  },
  {
   "cell_type": "markdown",
   "id": "c42cbe00",
   "metadata": {},
   "source": [
    "#### Загрузка данных"
   ]
  },
  {
   "cell_type": "code",
   "execution_count": 2,
   "id": "eff9f206",
   "metadata": {},
   "outputs": [
    {
     "name": "stdout",
     "output_type": "stream",
     "text": [
      "   user_id        name  age            city subscription_type\n",
      "0        1        Кира   22          Тюмень             ultra\n",
      "1        2   Станислав   31            Омск             ultra\n",
      "2        3     Алексей   20          Москва             ultra\n",
      "3        4  Константин   26  Ростов-на-Дону             ultra\n",
      "4        5       Адель   28            Омск             ultra\n",
      "   user_id     distance   duration        date\n",
      "0        1  4409.919140  25.599769  2021-01-01\n",
      "1        1  2617.592153  15.816871  2021-01-18\n",
      "2        1   754.159807   6.232113  2021-04-20\n",
      "3        1  2694.783254  18.511000  2021-08-11\n",
      "4        1  4028.687306  26.265803  2021-08-28\n",
      "  subscription_type  minute_price  start_ride_price  subscription_fee\n",
      "0              free             8                50                 0\n",
      "1             ultra             6                 0               199\n"
     ]
    }
   ],
   "source": [
    "data_user = pd.read_csv('/datasets/users_go.csv')\n",
    "data_rides = pd.read_csv('/datasets/rides_go.csv')\n",
    "data_sub = pd.read_csv('/datasets/subscriptions_go.csv')\n",
    "print(data_user.head(5))\n",
    "print(data_rides.head(5))\n",
    "print(data_sub.head(5))"
   ]
  },
  {
   "cell_type": "code",
   "execution_count": 3,
   "id": "ea13b26c",
   "metadata": {
    "scrolled": true
   },
   "outputs": [
    {
     "name": "stdout",
     "output_type": "stream",
     "text": [
      "<class 'pandas.core.frame.DataFrame'>\n",
      "RangeIndex: 1565 entries, 0 to 1564\n",
      "Data columns (total 5 columns):\n",
      " #   Column             Non-Null Count  Dtype \n",
      "---  ------             --------------  ----- \n",
      " 0   user_id            1565 non-null   int64 \n",
      " 1   name               1565 non-null   object\n",
      " 2   age                1565 non-null   int64 \n",
      " 3   city               1565 non-null   object\n",
      " 4   subscription_type  1565 non-null   object\n",
      "dtypes: int64(2), object(3)\n",
      "memory usage: 61.3+ KB\n",
      "None\n",
      "<class 'pandas.core.frame.DataFrame'>\n",
      "RangeIndex: 18068 entries, 0 to 18067\n",
      "Data columns (total 4 columns):\n",
      " #   Column    Non-Null Count  Dtype  \n",
      "---  ------    --------------  -----  \n",
      " 0   user_id   18068 non-null  int64  \n",
      " 1   distance  18068 non-null  float64\n",
      " 2   duration  18068 non-null  float64\n",
      " 3   date      18068 non-null  object \n",
      "dtypes: float64(2), int64(1), object(1)\n",
      "memory usage: 564.8+ KB\n",
      "None\n",
      "<class 'pandas.core.frame.DataFrame'>\n",
      "RangeIndex: 2 entries, 0 to 1\n",
      "Data columns (total 4 columns):\n",
      " #   Column             Non-Null Count  Dtype \n",
      "---  ------             --------------  ----- \n",
      " 0   subscription_type  2 non-null      object\n",
      " 1   minute_price       2 non-null      int64 \n",
      " 2   start_ride_price   2 non-null      int64 \n",
      " 3   subscription_fee   2 non-null      int64 \n",
      "dtypes: int64(3), object(1)\n",
      "memory usage: 192.0+ bytes\n",
      "None\n"
     ]
    }
   ],
   "source": [
    "print(data_user.info(0))\n",
    "print(data_rides.info(0))\n",
    "print(data_sub.info(0))"
   ]
  },
  {
   "cell_type": "code",
   "execution_count": 4,
   "id": "738b3305",
   "metadata": {},
   "outputs": [
    {
     "name": "stdout",
     "output_type": "stream",
     "text": [
      "<class 'pandas.core.frame.DataFrame'>\n",
      "Int64Index: 18388 entries, 0 to 18387\n",
      "Data columns (total 11 columns):\n",
      " #   Column             Non-Null Count  Dtype  \n",
      "---  ------             --------------  -----  \n",
      " 0   user_id            18388 non-null  int64  \n",
      " 1   name               18388 non-null  object \n",
      " 2   age                18388 non-null  int64  \n",
      " 3   city               18388 non-null  object \n",
      " 4   subscription_type  18388 non-null  object \n",
      " 5   distance           18388 non-null  float64\n",
      " 6   duration           18388 non-null  float64\n",
      " 7   date               18388 non-null  object \n",
      " 8   minute_price       18388 non-null  int64  \n",
      " 9   start_ride_price   18388 non-null  int64  \n",
      " 10  subscription_fee   18388 non-null  int64  \n",
      "dtypes: float64(2), int64(5), object(4)\n",
      "memory usage: 1.7+ MB\n"
     ]
    }
   ],
   "source": [
    "data_u_r = data_user.merge(data_rides, how = 'outer')\n",
    "data = data_u_r.merge(data_sub, how = 'outer')\n",
    "data.info()"
   ]
  },
  {
   "cell_type": "markdown",
   "id": "53826bee",
   "metadata": {},
   "source": [
    "**Мы объединили все датафреймы для удобства работы. Теперь вся необходимая информация находится в одном DF.\n",
    "Данные в целом целые, но нужно будет разобраться с типом данных в некоторых столбцах. Пропущенных значений нет, нужно проверить на дубликаты**"
   ]
  },
  {
   "cell_type": "markdown",
   "id": "e95ebca7",
   "metadata": {},
   "source": [
    "#### Шаг 2. Предобработка данных"
   ]
  },
  {
   "cell_type": "code",
   "execution_count": 5,
   "id": "0885844c",
   "metadata": {},
   "outputs": [],
   "source": [
    "data_rides['date'] = pd.to_datetime(data_rides.date, dayfirst = True)\n",
    "data_rides['month'] = data_rides['date'].dt.month"
   ]
  },
  {
   "cell_type": "markdown",
   "id": "25964f6a",
   "metadata": {},
   "source": [
    "**Создали дополнительный столбец \"месяц\"**"
   ]
  },
  {
   "cell_type": "code",
   "execution_count": 6,
   "id": "f3cde3fa",
   "metadata": {},
   "outputs": [
    {
     "data": {
      "text/plain": [
       "94"
      ]
     },
     "execution_count": 6,
     "metadata": {},
     "output_type": "execute_result"
    }
   ],
   "source": [
    "data_rides['duration'].duplicated().sum()"
   ]
  },
  {
   "cell_type": "code",
   "execution_count": 7,
   "id": "030178aa",
   "metadata": {},
   "outputs": [
    {
     "data": {
      "text/html": [
       "<div>\n",
       "<style scoped>\n",
       "    .dataframe tbody tr th:only-of-type {\n",
       "        vertical-align: middle;\n",
       "    }\n",
       "\n",
       "    .dataframe tbody tr th {\n",
       "        vertical-align: top;\n",
       "    }\n",
       "\n",
       "    .dataframe thead th {\n",
       "        text-align: right;\n",
       "    }\n",
       "</style>\n",
       "<table border=\"1\" class=\"dataframe\">\n",
       "  <thead>\n",
       "    <tr style=\"text-align: right;\">\n",
       "      <th></th>\n",
       "      <th>user_id</th>\n",
       "      <th>distance</th>\n",
       "      <th>duration</th>\n",
       "      <th>date</th>\n",
       "      <th>month</th>\n",
       "    </tr>\n",
       "  </thead>\n",
       "  <tbody>\n",
       "    <tr>\n",
       "      <th>6570</th>\n",
       "      <td>704</td>\n",
       "      <td>4830.824371</td>\n",
       "      <td>0.5</td>\n",
       "      <td>2021-10-14</td>\n",
       "      <td>10</td>\n",
       "    </tr>\n",
       "    <tr>\n",
       "      <th>6680</th>\n",
       "      <td>712</td>\n",
       "      <td>4684.004397</td>\n",
       "      <td>0.5</td>\n",
       "      <td>2021-03-04</td>\n",
       "      <td>3</td>\n",
       "    </tr>\n",
       "    <tr>\n",
       "      <th>6695</th>\n",
       "      <td>713</td>\n",
       "      <td>5215.642710</td>\n",
       "      <td>0.5</td>\n",
       "      <td>2021-02-25</td>\n",
       "      <td>2</td>\n",
       "    </tr>\n",
       "    <tr>\n",
       "      <th>6768</th>\n",
       "      <td>718</td>\n",
       "      <td>5197.436649</td>\n",
       "      <td>0.5</td>\n",
       "      <td>2021-02-11</td>\n",
       "      <td>2</td>\n",
       "    </tr>\n",
       "    <tr>\n",
       "      <th>6860</th>\n",
       "      <td>724</td>\n",
       "      <td>6225.520342</td>\n",
       "      <td>0.5</td>\n",
       "      <td>2021-12-16</td>\n",
       "      <td>12</td>\n",
       "    </tr>\n",
       "    <tr>\n",
       "      <th>...</th>\n",
       "      <td>...</td>\n",
       "      <td>...</td>\n",
       "      <td>...</td>\n",
       "      <td>...</td>\n",
       "      <td>...</td>\n",
       "    </tr>\n",
       "    <tr>\n",
       "      <th>17004</th>\n",
       "      <td>1460</td>\n",
       "      <td>5531.335845</td>\n",
       "      <td>0.5</td>\n",
       "      <td>2021-01-19</td>\n",
       "      <td>1</td>\n",
       "    </tr>\n",
       "    <tr>\n",
       "      <th>17242</th>\n",
       "      <td>1477</td>\n",
       "      <td>6724.932981</td>\n",
       "      <td>0.5</td>\n",
       "      <td>2021-01-12</td>\n",
       "      <td>1</td>\n",
       "    </tr>\n",
       "    <tr>\n",
       "      <th>17314</th>\n",
       "      <td>1483</td>\n",
       "      <td>4445.481070</td>\n",
       "      <td>0.5</td>\n",
       "      <td>2021-03-06</td>\n",
       "      <td>3</td>\n",
       "    </tr>\n",
       "    <tr>\n",
       "      <th>17505</th>\n",
       "      <td>1496</td>\n",
       "      <td>5722.551787</td>\n",
       "      <td>0.5</td>\n",
       "      <td>2021-02-14</td>\n",
       "      <td>2</td>\n",
       "    </tr>\n",
       "    <tr>\n",
       "      <th>17909</th>\n",
       "      <td>1524</td>\n",
       "      <td>4103.998874</td>\n",
       "      <td>0.5</td>\n",
       "      <td>2021-06-18</td>\n",
       "      <td>6</td>\n",
       "    </tr>\n",
       "  </tbody>\n",
       "</table>\n",
       "<p>94 rows × 5 columns</p>\n",
       "</div>"
      ],
      "text/plain": [
       "       user_id     distance  duration       date  month\n",
       "6570       704  4830.824371       0.5 2021-10-14     10\n",
       "6680       712  4684.004397       0.5 2021-03-04      3\n",
       "6695       713  5215.642710       0.5 2021-02-25      2\n",
       "6768       718  5197.436649       0.5 2021-02-11      2\n",
       "6860       724  6225.520342       0.5 2021-12-16     12\n",
       "...        ...          ...       ...        ...    ...\n",
       "17004     1460  5531.335845       0.5 2021-01-19      1\n",
       "17242     1477  6724.932981       0.5 2021-01-12      1\n",
       "17314     1483  4445.481070       0.5 2021-03-06      3\n",
       "17505     1496  5722.551787       0.5 2021-02-14      2\n",
       "17909     1524  4103.998874       0.5 2021-06-18      6\n",
       "\n",
       "[94 rows x 5 columns]"
      ]
     },
     "execution_count": 7,
     "metadata": {},
     "output_type": "execute_result"
    }
   ],
   "source": [
    "data_rides[data_rides['duration'].duplicated()]"
   ]
  },
  {
   "cell_type": "code",
   "execution_count": 8,
   "id": "8056845d",
   "metadata": {},
   "outputs": [],
   "source": [
    "data_rides = data_rides.drop_duplicates(subset = 'duration')"
   ]
  },
  {
   "cell_type": "code",
   "execution_count": 9,
   "id": "4a491345",
   "metadata": {},
   "outputs": [
    {
     "data": {
      "text/plain": [
       "0"
      ]
     },
     "execution_count": 9,
     "metadata": {},
     "output_type": "execute_result"
    }
   ],
   "source": [
    "data_rides['duration'].duplicated().sum()"
   ]
  },
  {
   "cell_type": "markdown",
   "id": "7f7514cb",
   "metadata": {},
   "source": [
    "**В данном разделе мы избавились от дубликатов, предполагаю, что они появились из-за того, что пользователи брали в аренду самокат и сразу отменяли по тем или иным причинам, а минимальное время записывалось как пол минуты. А при том что время поездки записывается вплость до миллионной секунды, то что в данном DF будет два идентичных значения маловероятно. Пропущенных значений обнаружено не было. Среди остальных данных поиск дубликатов будет бессмысленен, т.к имена города и тд, так или иначе будут повторяться.**"
   ]
  },
  {
   "cell_type": "markdown",
   "id": "212593c7",
   "metadata": {},
   "source": [
    "#### Шаг 3. Исследовательский анализ данных"
   ]
  },
  {
   "cell_type": "code",
   "execution_count": 10,
   "id": "e41c98bc",
   "metadata": {},
   "outputs": [
    {
     "data": {
      "text/plain": [
       "Пятигорск         226\n",
       "Екатеринбург      206\n",
       "Ростов-на-Дону    202\n",
       "Краснодар         196\n",
       "Сочи              192\n",
       "Омск              186\n",
       "Тюмень            185\n",
       "Москва            172\n",
       "Name: city, dtype: int64"
      ]
     },
     "execution_count": 10,
     "metadata": {},
     "output_type": "execute_result"
    }
   ],
   "source": [
    "data_user['city'].value_counts()"
   ]
  },
  {
   "cell_type": "code",
   "execution_count": 11,
   "id": "e3a4274c",
   "metadata": {},
   "outputs": [
    {
     "data": {
      "text/plain": [
       "(array([-1.,  0.,  1.,  2.,  3.,  4.,  5.,  6.,  7.,  8.]),\n",
       " [Text(-1.0, 0, 'Тюмень'),\n",
       "  Text(0.0, 0, 'Екатеринбург'),\n",
       "  Text(1.0, 0, 'Краснодар'),\n",
       "  Text(2.0, 0, 'Москва'),\n",
       "  Text(3.0, 0, 'Омск'),\n",
       "  Text(4.0, 0, 'Пятигорск'),\n",
       "  Text(5.0, 0, 'Ростов-на-Дону'),\n",
       "  Text(6.0, 0, 'Сочи'),\n",
       "  Text(7.0, 0, 'Тюмень'),\n",
       "  Text(8.0, 0, '')])"
      ]
     },
     "execution_count": 11,
     "metadata": {},
     "output_type": "execute_result"
    },
    {
     "data": {
      "text/plain": [
       "<Figure size 7200x7200 with 0 Axes>"
      ]
     },
     "metadata": {},
     "output_type": "display_data"
    },
    {
     "data": {
      "image/png": "[encoded data removed]",
      "text/plain": [
       "<Figure size 432x288 with 1 Axes>"
      ]
     },
     "metadata": {
      "needs_background": "light"
     },
     "output_type": "display_data"
    }
   ],
   "source": [
    "plt.figure(figsize=(100, 100))\n",
    "(\n",
    "    data_user.pivot_table(index = 'city', values = 'user_id', aggfunc = 'count')\n",
    "    .plot(title='Частота встречаемости городов', xlabel='Города', ylabel='Частота встречаемости')\n",
    ");\n",
    "plt.xticks(rotation=45)"
   ]
  },
  {
   "cell_type": "markdown",
   "id": "4423e8ef",
   "metadata": {},
   "source": [
    "**Тут мы можем видеть, что нибольший спрос самокаты имеют в Пятигорске и наименьший в Москве. Такие данные могут быть из-за того что в столице большая конкуренция, либо из-за того что Москва большой город и добираться до куда-то порой проще на альтернативном, но более быстром транспорте, например метро**"
   ]
  },
  {
   "cell_type": "code",
   "execution_count": 12,
   "id": "fb63554e",
   "metadata": {},
   "outputs": [
    {
     "data": {
      "text/plain": [
       "free     846\n",
       "ultra    719\n",
       "Name: subscription_type, dtype: int64"
      ]
     },
     "execution_count": 12,
     "metadata": {},
     "output_type": "execute_result"
    }
   ],
   "source": [
    "data_user['subscription_type'].value_counts()"
   ]
  },
  {
   "cell_type": "code",
   "execution_count": 13,
   "id": "542b913c",
   "metadata": {},
   "outputs": [
    {
     "data": {
      "image/png": "[encoded data removed]",
      "text/plain": [
       "<Figure size 432x288 with 1 Axes>"
      ]
     },
     "metadata": {
      "needs_background": "light"
     },
     "output_type": "display_data"
    }
   ],
   "source": [
    "plt.hist(data_user['subscription_type'],bins = 2)\n",
    "plt.xlabel('Вид подписки')\n",
    "plt.ylabel('Частота')\n",
    "plt.show()"
   ]
  },
  {
   "cell_type": "markdown",
   "id": "d0528ea1",
   "metadata": {},
   "source": [
    "**Кол-во людей без подписки незначительно, но меньше**"
   ]
  },
  {
   "cell_type": "code",
   "execution_count": 14,
   "id": "b633d9f7",
   "metadata": {
    "scrolled": true
   },
   "outputs": [
    {
     "data": {
      "text/plain": [
       "25    149\n",
       "26    133\n",
       "23    133\n",
       "24    132\n",
       "27    124\n",
       "22    120\n",
       "28    116\n",
       "21     94\n",
       "20     72\n",
       "29     72\n",
       "30     70\n",
       "19     49\n",
       "31     48\n",
       "18     46\n",
       "32     41\n",
       "33     40\n",
       "17     26\n",
       "16     19\n",
       "34     19\n",
       "35     15\n",
       "15     13\n",
       "14      9\n",
       "13      8\n",
       "36      6\n",
       "12      4\n",
       "38      3\n",
       "37      2\n",
       "39      1\n",
       "43      1\n",
       "Name: age, dtype: int64"
      ]
     },
     "execution_count": 14,
     "metadata": {},
     "output_type": "execute_result"
    }
   ],
   "source": [
    "data_user['age'].value_counts()"
   ]
  },
  {
   "cell_type": "code",
   "execution_count": 38,
   "id": "1442f765",
   "metadata": {
    "scrolled": true
   },
   "outputs": [
    {
     "data": {
      "text/plain": [
       "Text(0, 0.5, 'Частота')"
      ]
     },
     "execution_count": 38,
     "metadata": {},
     "output_type": "execute_result"
    },
    {
     "data": {
      "image/png": "[encoded data removed]",
      "text/plain": [
       "<Figure size 432x288 with 1 Axes>"
      ]
     },
     "metadata": {
      "needs_background": "light"
     },
     "output_type": "display_data"
    }
   ],
   "source": [
    "data_user['age'].plot(kind = 'hist', bins = 30, title='Распределение возрастов пользователей');\n",
    "plt.xlabel('Возраст')\n",
    "plt.ylabel('Частота')"
   ]
  },
  {
   "cell_type": "code",
   "execution_count": 16,
   "id": "34391cb1",
   "metadata": {},
   "outputs": [
    {
     "data": {
      "text/plain": [
       "25    149\n",
       "26    133\n",
       "23    133\n",
       "24    132\n",
       "27    124\n",
       "22    120\n",
       "28    116\n",
       "21     94\n",
       "20     72\n",
       "29     72\n",
       "30     70\n",
       "19     49\n",
       "31     48\n",
       "18     46\n",
       "32     41\n",
       "33     40\n",
       "17     26\n",
       "16     19\n",
       "34     19\n",
       "35     15\n",
       "15     13\n",
       "14      9\n",
       "13      8\n",
       "36      6\n",
       "12      4\n",
       "38      3\n",
       "37      2\n",
       "39      1\n",
       "43      1\n",
       "Name: age, dtype: int64"
      ]
     },
     "execution_count": 16,
     "metadata": {},
     "output_type": "execute_result"
    }
   ],
   "source": [
    "data_user['age'].value_counts()"
   ]
  },
  {
   "cell_type": "code",
   "execution_count": 50,
   "id": "2dc007e2",
   "metadata": {},
   "outputs": [
    {
     "data": {
      "text/plain": [
       "count    1565.000000\n",
       "mean       24.922045\n",
       "std         4.553496\n",
       "min        12.000000\n",
       "25%        22.000000\n",
       "50%        25.000000\n",
       "75%        28.000000\n",
       "max        43.000000\n",
       "Name: age, dtype: float64"
      ]
     },
     "execution_count": 50,
     "metadata": {},
     "output_type": "execute_result"
    }
   ],
   "source": [
    "data_user['age'].describe()"
   ]
  },
  {
   "cell_type": "markdown",
   "id": "4de3341c",
   "metadata": {},
   "source": [
    "**Больше всего молодых людей около 25 лет, предполагаю это связано с тем, что они уже платёжеспособны, чтобы брать самокаты в аренду и при этом достаточно молоды, чтобы не считать это детским развлечением**"
   ]
  },
  {
   "cell_type": "code",
   "execution_count": 39,
   "id": "3b13d07b",
   "metadata": {},
   "outputs": [
    {
     "data": {
      "text/plain": [
       "Text(0, 0.5, 'Частота')"
      ]
     },
     "execution_count": 39,
     "metadata": {},
     "output_type": "execute_result"
    },
    {
     "data": {
      "image/png": "[encoded data removed]",
      "text/plain": [
       "<Figure size 432x288 with 1 Axes>"
      ]
     },
     "metadata": {
      "needs_background": "light"
     },
     "output_type": "display_data"
    }
   ],
   "source": [
    "data_rides['distance'].plot(kind = 'hist', bins = 100, title='Расстояние, которое пользователи проехали', grid = True);\n",
    "plt.xlabel('Расстояние')\n",
    "plt.ylabel('Частота')"
   ]
  },
  {
   "cell_type": "code",
   "execution_count": 18,
   "id": "112e6e51",
   "metadata": {
    "scrolled": true
   },
   "outputs": [
    {
     "data": {
      "text/plain": [
       "{'whiskers': [<matplotlib.lines.Line2D at 0x7fda6eb77b80>,\n",
       "  <matplotlib.lines.Line2D at 0x7fda6eb77ee0>],\n",
       " 'caps': [<matplotlib.lines.Line2D at 0x7fda6eb07280>,\n",
       "  <matplotlib.lines.Line2D at 0x7fda6eb075e0>],\n",
       " 'boxes': [<matplotlib.lines.Line2D at 0x7fda6eb77820>],\n",
       " 'medians': [<matplotlib.lines.Line2D at 0x7fda6eb07970>],\n",
       " 'fliers': [<matplotlib.lines.Line2D at 0x7fda6eb07cd0>],\n",
       " 'means': []}"
      ]
     },
     "execution_count": 18,
     "metadata": {},
     "output_type": "execute_result"
    },
    {
     "data": {
      "image/png": "[encoded data removed]",
      "text/plain": [
       "<Figure size 432x288 with 1 Axes>"
      ]
     },
     "metadata": {
      "needs_background": "light"
     },
     "output_type": "display_data"
    }
   ],
   "source": [
    "plt.ylim(700, 5600)\n",
    "plt.boxplot(data_rides['distance'])"
   ]
  },
  {
   "cell_type": "code",
   "execution_count": 40,
   "id": "3dcb8dd9",
   "metadata": {
    "scrolled": true
   },
   "outputs": [
    {
     "data": {
      "text/plain": [
       "Text(0, 0.5, 'Частота')"
      ]
     },
     "execution_count": 40,
     "metadata": {},
     "output_type": "execute_result"
    },
    {
     "data": {
      "image/png": "[encoded data removed]",
      "text/plain": [
       "<Figure size 432x288 with 1 Axes>"
      ]
     },
     "metadata": {
      "needs_background": "light"
     },
     "output_type": "display_data"
    }
   ],
   "source": [
    "data_rides = data_rides.query('700 < distance < 5600')\n",
    "data_rides['distance'].plot(kind = 'hist', bins = 100, range =(700, 5600), title='Расстояние, которое пользователи проехали', grid = True);\n",
    "plt.xlabel('Расстояние')\n",
    "plt.ylabel('Частота')"
   ]
  },
  {
   "cell_type": "code",
   "execution_count": 49,
   "id": "792a8484",
   "metadata": {},
   "outputs": [
    {
     "data": {
      "text/plain": [
       "count    16862.000000\n",
       "mean      3179.935472\n",
       "std        917.989000\n",
       "min        701.138423\n",
       "25%       2637.909553\n",
       "50%       3166.079874\n",
       "75%       3780.482351\n",
       "max       5594.753114\n",
       "Name: distance, dtype: float64"
      ]
     },
     "execution_count": 49,
     "metadata": {},
     "output_type": "execute_result"
    }
   ],
   "source": [
    "data_rides['distance'].describe()"
   ]
  },
  {
   "cell_type": "markdown",
   "id": "0db3ac8b",
   "metadata": {},
   "source": [
    "**Избавились от выбросов, слишком малые могли быть из-за изменений планов пользователя, либо из-за неисправности самокатов. Слишком большие могли быть из-за сбоев в работе GPS-трекеров, либо других неисправностей\"**"
   ]
  },
  {
   "cell_type": "code",
   "execution_count": 41,
   "id": "a18d8a14",
   "metadata": {
    "scrolled": true
   },
   "outputs": [
    {
     "data": {
      "text/plain": [
       "Text(0, 0.5, 'Частота')"
      ]
     },
     "execution_count": 41,
     "metadata": {},
     "output_type": "execute_result"
    },
    {
     "data": {
      "image/png": "[encoded data removed]",
      "text/plain": [
       "<Figure size 432x288 with 1 Axes>"
      ]
     },
     "metadata": {
      "needs_background": "light"
     },
     "output_type": "display_data"
    }
   ],
   "source": [
    "data_rides['duration'].plot(kind = 'hist', bins = 100, title='Продолжительность поездок', grid = True);\n",
    "plt.xlabel('Продолжительность в минутах')\n",
    "plt.ylabel('Частота')"
   ]
  },
  {
   "cell_type": "code",
   "execution_count": 21,
   "id": "6fbbbb4d",
   "metadata": {},
   "outputs": [
    {
     "data": {
      "text/plain": [
       "{'whiskers': [<matplotlib.lines.Line2D at 0x7fda6ec9b0a0>,\n",
       "  <matplotlib.lines.Line2D at 0x7fda6ec9b430>],\n",
       " 'caps': [<matplotlib.lines.Line2D at 0x7fda6ec9bbb0>,\n",
       "  <matplotlib.lines.Line2D at 0x7fda6ec9bdf0>],\n",
       " 'boxes': [<matplotlib.lines.Line2D at 0x7fda6ec8ac40>],\n",
       " 'medians': [<matplotlib.lines.Line2D at 0x7fda6ec6b970>],\n",
       " 'fliers': [<matplotlib.lines.Line2D at 0x7fda6ec6b340>],\n",
       " 'means': []}"
      ]
     },
     "execution_count": 21,
     "metadata": {},
     "output_type": "execute_result"
    },
    {
     "data": {
      "image/png": "[encoded data removed]",
      "text/plain": [
       "<Figure size 432x288 with 1 Axes>"
      ]
     },
     "metadata": {
      "needs_background": "light"
     },
     "output_type": "display_data"
    }
   ],
   "source": [
    "plt.ylim(1, 34)\n",
    "plt.boxplot(data_rides['duration'])"
   ]
  },
  {
   "cell_type": "code",
   "execution_count": 42,
   "id": "a68048ba",
   "metadata": {
    "scrolled": true
   },
   "outputs": [
    {
     "data": {
      "text/plain": [
       "Text(0, 0.5, 'Частота')"
      ]
     },
     "execution_count": 42,
     "metadata": {},
     "output_type": "execute_result"
    },
    {
     "data": {
      "image/png": "[encoded data removed]",
      "text/plain": [
       "<Figure size 432x288 with 1 Axes>"
      ]
     },
     "metadata": {
      "needs_background": "light"
     },
     "output_type": "display_data"
    }
   ],
   "source": [
    "data_rides = data_rides.query('0 < duration < 34')\n",
    "data_rides['duration'].plot(kind = 'hist', bins = 100, range =(0, 34), title='Продолжительность поездок', grid = True)\n",
    "plt.xlabel('Продолжительность в минутах')\n",
    "plt.ylabel('Частота')"
   ]
  },
  {
   "cell_type": "code",
   "execution_count": 48,
   "id": "a57c93ed",
   "metadata": {},
   "outputs": [
    {
     "data": {
      "text/plain": [
       "count    16862.000000\n",
       "mean        18.258239\n",
       "std          5.576320\n",
       "min          0.500000\n",
       "25%         14.176739\n",
       "50%         18.031562\n",
       "75%         21.887291\n",
       "max         33.987812\n",
       "Name: duration, dtype: float64"
      ]
     },
     "execution_count": 48,
     "metadata": {},
     "output_type": "execute_result"
    }
   ],
   "source": [
    "data_rides['duration'].describe()"
   ]
  },
  {
   "cell_type": "markdown",
   "id": "3784bd3f",
   "metadata": {},
   "source": [
    "**Продолжительность поездок наблюдается в виде нормального распределения, было несколько выбросов сверху. Скорее всего из-за забытой закрытой аренды.**"
   ]
  },
  {
   "cell_type": "markdown",
   "id": "4ef51331",
   "metadata": {},
   "source": [
    "#### Шаг 4. Объединение данных"
   ]
  },
  {
   "cell_type": "code",
   "execution_count": 23,
   "id": "6bf288b5",
   "metadata": {
    "scrolled": true
   },
   "outputs": [],
   "source": [
    "data_u_r = data_user.merge(data_rides, how = 'outer')\n",
    "data = data_u_r.merge(data_sub, how = 'outer')"
   ]
  },
  {
   "cell_type": "code",
   "execution_count": 24,
   "id": "28331068",
   "metadata": {
    "scrolled": true
   },
   "outputs": [
    {
     "name": "stdout",
     "output_type": "stream",
     "text": [
      "<class 'pandas.core.frame.DataFrame'>\n",
      "Int64Index: 17161 entries, 0 to 17160\n",
      "Data columns (total 12 columns):\n",
      " #   Column             Non-Null Count  Dtype         \n",
      "---  ------             --------------  -----         \n",
      " 0   user_id            17161 non-null  int64         \n",
      " 1   name               17161 non-null  object        \n",
      " 2   age                17161 non-null  int64         \n",
      " 3   city               17161 non-null  object        \n",
      " 4   subscription_type  17161 non-null  object        \n",
      " 5   distance           17161 non-null  float64       \n",
      " 6   duration           17161 non-null  float64       \n",
      " 7   date               17161 non-null  datetime64[ns]\n",
      " 8   month              17161 non-null  int64         \n",
      " 9   minute_price       17161 non-null  int64         \n",
      " 10  start_ride_price   17161 non-null  int64         \n",
      " 11  subscription_fee   17161 non-null  int64         \n",
      "dtypes: datetime64[ns](1), float64(2), int64(6), object(3)\n",
      "memory usage: 1.7+ MB\n"
     ]
    }
   ],
   "source": [
    "data.info()"
   ]
  },
  {
   "cell_type": "markdown",
   "id": "531b531c",
   "metadata": {},
   "source": [
    "**Я сделал это ещё в начале проекта, но подумал, раз какие-то данныые удалялись (например выбросы), то повторю объединение. Но не совсем понимаю, почему не объединить их в самом начале**"
   ]
  },
  {
   "cell_type": "code",
   "execution_count": 47,
   "id": "78b75a27",
   "metadata": {},
   "outputs": [
    {
     "name": "stdout",
     "output_type": "stream",
     "text": [
      "      user_id   name  age  city subscription_type     distance   duration  \\\n",
      "6533      700  Айдар   22  Омск              free  2515.690719  14.944286   \n",
      "6534      700  Айдар   22  Омск              free   846.932642  16.234663   \n",
      "6535      700  Айдар   22  Омск              free  4004.434142  20.016628   \n",
      "6536      700  Айдар   22  Омск              free  1205.911290   9.782872   \n",
      "6537      700  Айдар   22  Омск              free  3047.379435  17.427673   \n",
      "\n",
      "           date  month  minute_price  start_ride_price  subscription_fee  \n",
      "6533 2021-01-02      1             8                50                 0  \n",
      "6534 2021-02-01      2             8                50                 0  \n",
      "6535 2021-02-04      2             8                50                 0  \n",
      "6536 2021-02-10      2             8                50                 0  \n",
      "6537 2021-02-14      2             8                50                 0      user_id  name  age    city subscription_type     distance   duration  \\\n",
      "0        1  Кира   22  Тюмень             ultra  4409.919140  25.599769   \n",
      "1        1  Кира   22  Тюмень             ultra  2617.592153  15.816871   \n",
      "2        1  Кира   22  Тюмень             ultra   754.159807   6.232113   \n",
      "3        1  Кира   22  Тюмень             ultra  2694.783254  18.511000   \n",
      "4        1  Кира   22  Тюмень             ultra  4028.687306  26.265803   \n",
      "\n",
      "        date  month  minute_price  start_ride_price  subscription_fee  \n",
      "0 2021-01-01      1             6                 0               199  \n",
      "1 2021-01-18      1             6                 0               199  \n",
      "2 2021-04-20      4             6                 0               199  \n",
      "3 2021-08-11      8             6                 0               199  \n",
      "4 2021-08-28      8             6                 0               199  \n"
     ]
    }
   ],
   "source": [
    "data_free = data[data['subscription_type'] == 'free']\n",
    "data_ultra = data[data['subscription_type'] == 'ultra']\n",
    "print(data_free.head(5),data_ultra.head(5))"
   ]
  },
  {
   "cell_type": "markdown",
   "id": "8ae3eb5f",
   "metadata": {},
   "source": [
    "**Мы разделили ДФ на две категории, те, где подписка есть и те, где подписки нет. Это нужно для того, чтобы можно было сравнить эти две категории пользователей**"
   ]
  },
  {
   "cell_type": "code",
   "execution_count": 51,
   "id": "8799dd75",
   "metadata": {},
   "outputs": [
    {
     "data": {
      "image/png": "[encoded data removed]",
      "text/plain": [
       "<Figure size 432x288 with 1 Axes>"
      ]
     },
     "metadata": {
      "needs_background": "light"
     },
     "output_type": "display_data"
    }
   ],
   "source": [
    "plt.hist(data_free['duration'], label = 'БезПодписочники')\n",
    "plt.hist(data_ultra['duration'], label = 'Подписота')\n",
    "plt.title('Продолжительность сесси в минутах')\n",
    "plt.legend(loc='upper right')\n",
    "plt.xlabel('Продолжительность поездки в минутах')\n",
    "plt.ylabel('Частота')\n",
    "plt.show()"
   ]
  },
  {
   "cell_type": "markdown",
   "id": "7a7016ae",
   "metadata": {},
   "source": [
    "**Судя по гистограмме, можно заметить, что люди НЕ пользующиеся подпиской ездят по времени в среднем больше, возможно это связано с тем, что без подписки старт платный и люди не хотят платить за то, чтобы прокатиться 3 минуты**"
   ]
  },
  {
   "cell_type": "code",
   "execution_count": 57,
   "id": "1fe71b5b",
   "metadata": {
    "scrolled": true
   },
   "outputs": [
    {
     "data": {
      "image/png": "[encoded data removed]",
      "text/plain": [
       "<Figure size 432x288 with 1 Axes>"
      ]
     },
     "metadata": {
      "needs_background": "light"
     },
     "output_type": "display_data"
    }
   ],
   "source": [
    "plt.hist(data_free['distance'],bins = 100, label = 'БезПодписочники')\n",
    "plt.hist(data_ultra['distance'],bins = 100, label = 'Подписота')\n",
    "plt.title('Расстояние поездки')\n",
    "plt.legend(loc='upper right')\n",
    "plt.xlabel('Расстояние поездки')\n",
    "plt.ylabel('Частота встречаемости')\n",
    "plt.show()"
   ]
  },
  {
   "cell_type": "markdown",
   "id": "b95ec893",
   "metadata": {},
   "source": [
    "**В плане расстояния люди с подпиской чаще ездят на большие расстояния, нежели пользователи без подписки. Это может быть связано с тем, что подписчики часто ездят одним и тем же маршрутом, например на работу или на учёбу, а люди без подписок берут самокаты не так часто и больше для развлечения**"
   ]
  },
  {
   "cell_type": "markdown",
   "id": "3e8feb3f",
   "metadata": {},
   "source": [
    "**Действительно, заметно, что те кто катается по подписке имеют пик в районе 3000м, в то время как у пользователей без подписки более плавное распределение расстояния. Но моё предположение, что подписчики чаще берут самокаты именно для нужды, а не для развлечения становится только твёрже**"
   ]
  },
  {
   "cell_type": "markdown",
   "id": "402d620f",
   "metadata": {},
   "source": [
    "#### Шаг 5. Подсчёт выручки"
   ]
  },
  {
   "cell_type": "code",
   "execution_count": 28,
   "id": "59f58fb2",
   "metadata": {},
   "outputs": [
    {
     "data": {
      "text/html": [
       "<div>\n",
       "<style scoped>\n",
       "    .dataframe tbody tr th:only-of-type {\n",
       "        vertical-align: middle;\n",
       "    }\n",
       "\n",
       "    .dataframe tbody tr th {\n",
       "        vertical-align: top;\n",
       "    }\n",
       "\n",
       "    .dataframe thead th {\n",
       "        text-align: right;\n",
       "    }\n",
       "</style>\n",
       "<table border=\"1\" class=\"dataframe\">\n",
       "  <thead>\n",
       "    <tr style=\"text-align: right;\">\n",
       "      <th></th>\n",
       "      <th>user_id</th>\n",
       "      <th>month</th>\n",
       "      <th>subscription_type</th>\n",
       "      <th>sum_distance</th>\n",
       "      <th>sum_duration</th>\n",
       "      <th>count</th>\n",
       "      <th>gone</th>\n",
       "    </tr>\n",
       "  </thead>\n",
       "  <tbody>\n",
       "    <tr>\n",
       "      <th>0</th>\n",
       "      <td>1</td>\n",
       "      <td>1</td>\n",
       "      <td>ultra</td>\n",
       "      <td>7027.511294</td>\n",
       "      <td>41.416640</td>\n",
       "      <td>2.0</td>\n",
       "      <td>2.0</td>\n",
       "    </tr>\n",
       "    <tr>\n",
       "      <th>1</th>\n",
       "      <td>1</td>\n",
       "      <td>4</td>\n",
       "      <td>ultra</td>\n",
       "      <td>754.159807</td>\n",
       "      <td>6.232113</td>\n",
       "      <td>1.0</td>\n",
       "      <td>1.0</td>\n",
       "    </tr>\n",
       "    <tr>\n",
       "      <th>2</th>\n",
       "      <td>1</td>\n",
       "      <td>8</td>\n",
       "      <td>ultra</td>\n",
       "      <td>6723.470560</td>\n",
       "      <td>44.776802</td>\n",
       "      <td>2.0</td>\n",
       "      <td>2.0</td>\n",
       "    </tr>\n",
       "    <tr>\n",
       "      <th>3</th>\n",
       "      <td>1</td>\n",
       "      <td>10</td>\n",
       "      <td>ultra</td>\n",
       "      <td>5809.911100</td>\n",
       "      <td>31.578017</td>\n",
       "      <td>2.0</td>\n",
       "      <td>2.0</td>\n",
       "    </tr>\n",
       "    <tr>\n",
       "      <th>4</th>\n",
       "      <td>1</td>\n",
       "      <td>11</td>\n",
       "      <td>ultra</td>\n",
       "      <td>7003.499363</td>\n",
       "      <td>53.397424</td>\n",
       "      <td>3.0</td>\n",
       "      <td>3.0</td>\n",
       "    </tr>\n",
       "  </tbody>\n",
       "</table>\n",
       "</div>"
      ],
      "text/plain": [
       "   user_id  month subscription_type  sum_distance  sum_duration  count  gone\n",
       "0        1      1             ultra   7027.511294     41.416640    2.0   2.0\n",
       "1        1      4             ultra    754.159807      6.232113    1.0   1.0\n",
       "2        1      8             ultra   6723.470560     44.776802    2.0   2.0\n",
       "3        1     10             ultra   5809.911100     31.578017    2.0   2.0\n",
       "4        1     11             ultra   7003.499363     53.397424    3.0   3.0"
      ]
     },
     "execution_count": 28,
     "metadata": {},
     "output_type": "execute_result"
    }
   ],
   "source": [
    "new_data = data.pivot_table(index = ['user_id','month', 'subscription_type'],\n",
    "                            values = ['distance', 'duration'], \n",
    "                            aggfunc = [sum, len])\n",
    "new_data = new_data.reset_index()\n",
    "new_data.columns = ['user_id','month', 'subscription_type', 'sum_distance', 'sum_duration','count','gone']\n",
    "new_data.head(5)"
   ]
  },
  {
   "cell_type": "markdown",
   "id": "2f940ee4",
   "metadata": {},
   "source": [
    "**Мы смогли собрать данные за каждый месяц, теперь можно приступить к сбору данных о выручке.\n",
    "P.S. Если есть более лаконичное решение, буду признателен за подсказку.**"
   ]
  },
  {
   "cell_type": "code",
   "execution_count": 29,
   "id": "55c2e5dc",
   "metadata": {
    "scrolled": true
   },
   "outputs": [
    {
     "data": {
      "text/html": [
       "<div>\n",
       "<style scoped>\n",
       "    .dataframe tbody tr th:only-of-type {\n",
       "        vertical-align: middle;\n",
       "    }\n",
       "\n",
       "    .dataframe tbody tr th {\n",
       "        vertical-align: top;\n",
       "    }\n",
       "\n",
       "    .dataframe thead th {\n",
       "        text-align: right;\n",
       "    }\n",
       "</style>\n",
       "<table border=\"1\" class=\"dataframe\">\n",
       "  <thead>\n",
       "    <tr style=\"text-align: right;\">\n",
       "      <th></th>\n",
       "      <th>user_id</th>\n",
       "      <th>month</th>\n",
       "      <th>subscription_type</th>\n",
       "      <th>sum_distance</th>\n",
       "      <th>sum_duration</th>\n",
       "      <th>count</th>\n",
       "      <th>gone</th>\n",
       "      <th>minute_price</th>\n",
       "      <th>start_ride_price</th>\n",
       "      <th>subscription_fee</th>\n",
       "      <th>cash</th>\n",
       "    </tr>\n",
       "  </thead>\n",
       "  <tbody>\n",
       "    <tr>\n",
       "      <th>0</th>\n",
       "      <td>1</td>\n",
       "      <td>1</td>\n",
       "      <td>ultra</td>\n",
       "      <td>7027.511294</td>\n",
       "      <td>42.0</td>\n",
       "      <td>2.0</td>\n",
       "      <td>2.0</td>\n",
       "      <td>6</td>\n",
       "      <td>0</td>\n",
       "      <td>199</td>\n",
       "      <td>451.0</td>\n",
       "    </tr>\n",
       "    <tr>\n",
       "      <th>1</th>\n",
       "      <td>1</td>\n",
       "      <td>4</td>\n",
       "      <td>ultra</td>\n",
       "      <td>754.159807</td>\n",
       "      <td>7.0</td>\n",
       "      <td>1.0</td>\n",
       "      <td>1.0</td>\n",
       "      <td>6</td>\n",
       "      <td>0</td>\n",
       "      <td>199</td>\n",
       "      <td>241.0</td>\n",
       "    </tr>\n",
       "    <tr>\n",
       "      <th>2</th>\n",
       "      <td>1</td>\n",
       "      <td>8</td>\n",
       "      <td>ultra</td>\n",
       "      <td>6723.470560</td>\n",
       "      <td>45.0</td>\n",
       "      <td>2.0</td>\n",
       "      <td>2.0</td>\n",
       "      <td>6</td>\n",
       "      <td>0</td>\n",
       "      <td>199</td>\n",
       "      <td>469.0</td>\n",
       "    </tr>\n",
       "    <tr>\n",
       "      <th>3</th>\n",
       "      <td>1</td>\n",
       "      <td>10</td>\n",
       "      <td>ultra</td>\n",
       "      <td>5809.911100</td>\n",
       "      <td>32.0</td>\n",
       "      <td>2.0</td>\n",
       "      <td>2.0</td>\n",
       "      <td>6</td>\n",
       "      <td>0</td>\n",
       "      <td>199</td>\n",
       "      <td>391.0</td>\n",
       "    </tr>\n",
       "    <tr>\n",
       "      <th>4</th>\n",
       "      <td>1</td>\n",
       "      <td>11</td>\n",
       "      <td>ultra</td>\n",
       "      <td>7003.499363</td>\n",
       "      <td>54.0</td>\n",
       "      <td>3.0</td>\n",
       "      <td>3.0</td>\n",
       "      <td>6</td>\n",
       "      <td>0</td>\n",
       "      <td>199</td>\n",
       "      <td>523.0</td>\n",
       "    </tr>\n",
       "  </tbody>\n",
       "</table>\n",
       "</div>"
      ],
      "text/plain": [
       "   user_id  month subscription_type  sum_distance  sum_duration  count  gone  \\\n",
       "0        1      1             ultra   7027.511294          42.0    2.0   2.0   \n",
       "1        1      4             ultra    754.159807           7.0    1.0   1.0   \n",
       "2        1      8             ultra   6723.470560          45.0    2.0   2.0   \n",
       "3        1     10             ultra   5809.911100          32.0    2.0   2.0   \n",
       "4        1     11             ultra   7003.499363          54.0    3.0   3.0   \n",
       "\n",
       "   minute_price  start_ride_price  subscription_fee   cash  \n",
       "0             6                 0               199  451.0  \n",
       "1             6                 0               199  241.0  \n",
       "2             6                 0               199  469.0  \n",
       "3             6                 0               199  391.0  \n",
       "4             6                 0               199  523.0  "
      ]
     },
     "execution_count": 29,
     "metadata": {},
     "output_type": "execute_result"
    }
   ],
   "source": [
    "new_data = new_data.merge(data_sub)\n",
    "new_data['sum_duration'] = np.ceil(new_data['sum_duration'])\n",
    "new_data['cash'] = new_data['start_ride_price'] * new_data['count'] + new_data['minute_price'] * new_data['sum_duration'] + new_data['subscription_fee']\n",
    "new_data.head(5)"
   ]
  },
  {
   "cell_type": "markdown",
   "id": "fbb69dec",
   "metadata": {},
   "source": [
    "**Мы выяснили количество прибыли, которую приносит каждый пользователь в каждый месяц**"
   ]
  },
  {
   "cell_type": "markdown",
   "id": "41545ac0",
   "metadata": {},
   "source": [
    "#### Шаг 6. Проверка гипотез"
   ]
  },
  {
   "cell_type": "code",
   "execution_count": 30,
   "id": "d405766b",
   "metadata": {},
   "outputs": [
    {
     "name": "stdout",
     "output_type": "stream",
     "text": [
      "p-значение: 6.84311058271332e-08\n",
      "Отвергаем нулевую гипотезу\n"
     ]
    }
   ],
   "source": [
    "#нулевая гипотеза, что подписчики и безподписочники тратят одинаковое кол-во времени на поездки\n",
    "#Альтернативная гипотеза - пользователи с подпиской тратя больше времени на поездки, чем пользователи без подписки\n",
    "results = st.ttest_ind(data_ultra['duration'], data_free['duration'], alternative = 'greater')\n",
    "alpha = 0.05\n",
    "print('p-значение:', results.pvalue)\n",
    "\n",
    "if results.pvalue < alpha:\n",
    "    print('Отвергаем нулевую гипотезу')\n",
    "else:\n",
    "    print('Не получилось отвергнуть нулевую гипотезу') "
   ]
  },
  {
   "cell_type": "markdown",
   "id": "69f6e104",
   "metadata": {},
   "source": [
    "**Мы выяснили, что пользователи с подпиской по времени ездят больше нежели те, кто без подписки. Нулевая гипотеза, что подписчики и безподписочники тратят одинаковое кол-во времени на поездки отвергается в пользу альтернативной -  пользователи с подпиской тратя больше времени на поездки, чем пользователи без подписки**"
   ]
  },
  {
   "cell_type": "code",
   "execution_count": 31,
   "id": "05f8d5c7",
   "metadata": {},
   "outputs": [
    {
     "name": "stdout",
     "output_type": "stream",
     "text": [
      "p-значение: 0.0\n",
      "Отвергаем нулевую гипотезу\n"
     ]
    }
   ],
   "source": [
    "#нулевая гипотеза, что поездка пользователя с подпиской равна 3130 метров\n",
    "#Альтернативная гипотеза - поездки пользователей с подпиской не превышают 3130  метров\n",
    "results = st.ttest_1samp(data_ultra['duration'], 3130, alternative = 'less')\n",
    "alpha = 0.05\n",
    "print('p-значение:', results.pvalue)\n",
    "\n",
    "if results.pvalue < alpha:\n",
    "    print('Отвергаем нулевую гипотезу')\n",
    "else:\n",
    "    print('Не получилось отвергнуть нулевую гипотезу') "
   ]
  },
  {
   "cell_type": "markdown",
   "id": "e73a7a93",
   "metadata": {},
   "source": [
    "**В самом деле оказывается, что поездка на самокате пользователями с подпиской не превышет 3130 метров. Нулевая гипотеза, что поездка пользователя с подпиской равна 3130 метров, отвергается в пользу альтернативной - поездки пользователей с подпиской не превышают 3130  метров**"
   ]
  },
  {
   "cell_type": "code",
   "execution_count": 32,
   "id": "60946923",
   "metadata": {
    "scrolled": true
   },
   "outputs": [
    {
     "data": {
      "text/html": [
       "<div>\n",
       "<style scoped>\n",
       "    .dataframe tbody tr th:only-of-type {\n",
       "        vertical-align: middle;\n",
       "    }\n",
       "\n",
       "    .dataframe tbody tr th {\n",
       "        vertical-align: top;\n",
       "    }\n",
       "\n",
       "    .dataframe thead th {\n",
       "        text-align: right;\n",
       "    }\n",
       "</style>\n",
       "<table border=\"1\" class=\"dataframe\">\n",
       "  <thead>\n",
       "    <tr style=\"text-align: right;\">\n",
       "      <th></th>\n",
       "      <th>user_id</th>\n",
       "      <th>month</th>\n",
       "      <th>subscription_type</th>\n",
       "      <th>sum_distance</th>\n",
       "      <th>sum_duration</th>\n",
       "      <th>count</th>\n",
       "      <th>gone</th>\n",
       "      <th>minute_price</th>\n",
       "      <th>start_ride_price</th>\n",
       "      <th>subscription_fee</th>\n",
       "      <th>cash</th>\n",
       "    </tr>\n",
       "  </thead>\n",
       "  <tbody>\n",
       "    <tr>\n",
       "      <th>0</th>\n",
       "      <td>1</td>\n",
       "      <td>1</td>\n",
       "      <td>ultra</td>\n",
       "      <td>7027.511294</td>\n",
       "      <td>42.0</td>\n",
       "      <td>2.0</td>\n",
       "      <td>2.0</td>\n",
       "      <td>6</td>\n",
       "      <td>0</td>\n",
       "      <td>199</td>\n",
       "      <td>451.0</td>\n",
       "    </tr>\n",
       "    <tr>\n",
       "      <th>1</th>\n",
       "      <td>1</td>\n",
       "      <td>4</td>\n",
       "      <td>ultra</td>\n",
       "      <td>754.159807</td>\n",
       "      <td>7.0</td>\n",
       "      <td>1.0</td>\n",
       "      <td>1.0</td>\n",
       "      <td>6</td>\n",
       "      <td>0</td>\n",
       "      <td>199</td>\n",
       "      <td>241.0</td>\n",
       "    </tr>\n",
       "    <tr>\n",
       "      <th>2</th>\n",
       "      <td>1</td>\n",
       "      <td>8</td>\n",
       "      <td>ultra</td>\n",
       "      <td>6723.470560</td>\n",
       "      <td>45.0</td>\n",
       "      <td>2.0</td>\n",
       "      <td>2.0</td>\n",
       "      <td>6</td>\n",
       "      <td>0</td>\n",
       "      <td>199</td>\n",
       "      <td>469.0</td>\n",
       "    </tr>\n",
       "    <tr>\n",
       "      <th>3</th>\n",
       "      <td>1</td>\n",
       "      <td>10</td>\n",
       "      <td>ultra</td>\n",
       "      <td>5809.911100</td>\n",
       "      <td>32.0</td>\n",
       "      <td>2.0</td>\n",
       "      <td>2.0</td>\n",
       "      <td>6</td>\n",
       "      <td>0</td>\n",
       "      <td>199</td>\n",
       "      <td>391.0</td>\n",
       "    </tr>\n",
       "    <tr>\n",
       "      <th>4</th>\n",
       "      <td>1</td>\n",
       "      <td>11</td>\n",
       "      <td>ultra</td>\n",
       "      <td>7003.499363</td>\n",
       "      <td>54.0</td>\n",
       "      <td>3.0</td>\n",
       "      <td>3.0</td>\n",
       "      <td>6</td>\n",
       "      <td>0</td>\n",
       "      <td>199</td>\n",
       "      <td>523.0</td>\n",
       "    </tr>\n",
       "    <tr>\n",
       "      <th>...</th>\n",
       "      <td>...</td>\n",
       "      <td>...</td>\n",
       "      <td>...</td>\n",
       "      <td>...</td>\n",
       "      <td>...</td>\n",
       "      <td>...</td>\n",
       "      <td>...</td>\n",
       "      <td>...</td>\n",
       "      <td>...</td>\n",
       "      <td>...</td>\n",
       "      <td>...</td>\n",
       "    </tr>\n",
       "    <tr>\n",
       "      <th>10902</th>\n",
       "      <td>1534</td>\n",
       "      <td>6</td>\n",
       "      <td>free</td>\n",
       "      <td>3214.021065</td>\n",
       "      <td>19.0</td>\n",
       "      <td>1.0</td>\n",
       "      <td>1.0</td>\n",
       "      <td>8</td>\n",
       "      <td>50</td>\n",
       "      <td>0</td>\n",
       "      <td>202.0</td>\n",
       "    </tr>\n",
       "    <tr>\n",
       "      <th>10903</th>\n",
       "      <td>1534</td>\n",
       "      <td>8</td>\n",
       "      <td>free</td>\n",
       "      <td>7622.453034</td>\n",
       "      <td>48.0</td>\n",
       "      <td>2.0</td>\n",
       "      <td>2.0</td>\n",
       "      <td>8</td>\n",
       "      <td>50</td>\n",
       "      <td>0</td>\n",
       "      <td>484.0</td>\n",
       "    </tr>\n",
       "    <tr>\n",
       "      <th>10904</th>\n",
       "      <td>1534</td>\n",
       "      <td>9</td>\n",
       "      <td>free</td>\n",
       "      <td>4928.173852</td>\n",
       "      <td>23.0</td>\n",
       "      <td>1.0</td>\n",
       "      <td>1.0</td>\n",
       "      <td>8</td>\n",
       "      <td>50</td>\n",
       "      <td>0</td>\n",
       "      <td>234.0</td>\n",
       "    </tr>\n",
       "    <tr>\n",
       "      <th>10905</th>\n",
       "      <td>1534</td>\n",
       "      <td>11</td>\n",
       "      <td>free</td>\n",
       "      <td>13350.015305</td>\n",
       "      <td>77.0</td>\n",
       "      <td>4.0</td>\n",
       "      <td>4.0</td>\n",
       "      <td>8</td>\n",
       "      <td>50</td>\n",
       "      <td>0</td>\n",
       "      <td>816.0</td>\n",
       "    </tr>\n",
       "    <tr>\n",
       "      <th>10906</th>\n",
       "      <td>1534</td>\n",
       "      <td>12</td>\n",
       "      <td>free</td>\n",
       "      <td>2371.711192</td>\n",
       "      <td>16.0</td>\n",
       "      <td>1.0</td>\n",
       "      <td>1.0</td>\n",
       "      <td>8</td>\n",
       "      <td>50</td>\n",
       "      <td>0</td>\n",
       "      <td>178.0</td>\n",
       "    </tr>\n",
       "  </tbody>\n",
       "</table>\n",
       "<p>10907 rows × 11 columns</p>\n",
       "</div>"
      ],
      "text/plain": [
       "       user_id  month subscription_type  sum_distance  sum_duration  count  \\\n",
       "0            1      1             ultra   7027.511294          42.0    2.0   \n",
       "1            1      4             ultra    754.159807           7.0    1.0   \n",
       "2            1      8             ultra   6723.470560          45.0    2.0   \n",
       "3            1     10             ultra   5809.911100          32.0    2.0   \n",
       "4            1     11             ultra   7003.499363          54.0    3.0   \n",
       "...        ...    ...               ...           ...           ...    ...   \n",
       "10902     1534      6              free   3214.021065          19.0    1.0   \n",
       "10903     1534      8              free   7622.453034          48.0    2.0   \n",
       "10904     1534      9              free   4928.173852          23.0    1.0   \n",
       "10905     1534     11              free  13350.015305          77.0    4.0   \n",
       "10906     1534     12              free   2371.711192          16.0    1.0   \n",
       "\n",
       "       gone  minute_price  start_ride_price  subscription_fee   cash  \n",
       "0       2.0             6                 0               199  451.0  \n",
       "1       1.0             6                 0               199  241.0  \n",
       "2       2.0             6                 0               199  469.0  \n",
       "3       2.0             6                 0               199  391.0  \n",
       "4       3.0             6                 0               199  523.0  \n",
       "...     ...           ...               ...               ...    ...  \n",
       "10902   1.0             8                50                 0  202.0  \n",
       "10903   2.0             8                50                 0  484.0  \n",
       "10904   1.0             8                50                 0  234.0  \n",
       "10905   4.0             8                50                 0  816.0  \n",
       "10906   1.0             8                50                 0  178.0  \n",
       "\n",
       "[10907 rows x 11 columns]"
      ]
     },
     "execution_count": 32,
     "metadata": {},
     "output_type": "execute_result"
    }
   ],
   "source": [
    "new_data"
   ]
  },
  {
   "cell_type": "code",
   "execution_count": 33,
   "id": "f63d196e",
   "metadata": {},
   "outputs": [],
   "source": [
    "new_data_ultra = new_data[new_data['subscription_type'] == 'ultra']\n",
    "new_data_free = new_data[new_data['subscription_type'] == 'free']"
   ]
  },
  {
   "cell_type": "code",
   "execution_count": 59,
   "id": "2d7b514d",
   "metadata": {},
   "outputs": [
    {
     "name": "stdout",
     "output_type": "stream",
     "text": [
      "p-значение: 1.2684371173252376e-41\n",
      "Отвергаем нулевую гипотезу\n"
     ]
    }
   ],
   "source": [
    "#нулевая гипотеза, что помесячная выручка пользователей с подпиской равна выручке пользователей без подписки\n",
    "#Альтернативная гипотеза - пользователи с подпиской приносят больше денег компании нежели пользователи без подписки\n",
    "results = st.ttest_ind(new_data_ultra['cash'], new_data_free['cash'], alternative = 'greater')\n",
    "alpha = 0.05\n",
    "print('p-значение:', results.pvalue)\n",
    "\n",
    "if results.pvalue < alpha:\n",
    "    print('Отвергаем нулевую гипотезу')\n",
    "else:\n",
    "    print('Не получилось отвергнуть нулевую гипотезу') "
   ]
  },
  {
   "cell_type": "markdown",
   "id": "c67346c5",
   "metadata": {},
   "source": [
    "**Судя по всему помесячная выручка от пользователей с подпиской выше, чем от пользователей без подписки**"
   ]
  },
  {
   "cell_type": "markdown",
   "id": "4f12ebdc",
   "metadata": {},
   "source": [
    "**Ответ на вопрос 6.4: в данной ситуации помог бы t-тест для проверки гипотез о равенстве средних для зависимых выборок. scipy.stats.ttest_rel(). В качестве параметра можно выбрать одностороннюю гипотезу (левостороннюю), чтобы выяснить, снизилось ли кол-во обращений**"
   ]
  },
  {
   "cell_type": "markdown",
   "id": "a20c6e38",
   "metadata": {},
   "source": [
    "**Проверив гипотезы мы можем предположить, что пользователи с подпиской приносят больше прибыли компании нежели пользователи без подписки. Поэтому имеет смысл найти способ простимулировать покупку подписок пользователями**"
   ]
  },
  {
   "cell_type": "markdown",
   "id": "61213c5e",
   "metadata": {},
   "source": [
    "#### Шаг 7. Распределения"
   ]
  },
  {
   "cell_type": "code",
   "execution_count": 60,
   "id": "735d9e6d",
   "metadata": {},
   "outputs": [
    {
     "data": {
      "text/plain": [
       "0.0477903522728147"
      ]
     },
     "execution_count": 60,
     "metadata": {},
     "output_type": "execute_result"
    }
   ],
   "source": [
    "n = 100\n",
    "p = 0.1\n",
    "mu = n*p\n",
    "sigma = math.sqrt(n*p*(1-p))\n",
    "distr = st.norm(mu,sigma)\n",
    "result = distr.cdf(5)\n",
    "result"
   ]
  },
  {
   "cell_type": "markdown",
   "id": "22fb67ca",
   "metadata": {},
   "source": [
    "**Проверив гипотезы мы можем предположить, что пользователи с подпиской приносят больше прибыли компании нежели пользователи без подписки. Поэтому имеет смысл найти способ простимулировать покупку подписок пользователями.\n",
    "Даже учитывая что минута с подпиской стоит меньше, пользователи с подпиской чаще ездят и скорее всего на более длительные поездки и в отличии от пользователей без подписки. Так же те у кого есть подписко стабильно ездят на около 3000м расстояния, в то время как расстояние поездок пользователей без подписок более плавно распределено.**\n",
    "\n",
    "**Я считаю, что для увеличения прибыли компании, стоит вложиться в продвижение подписок и увеличение их продаж**"
   ]
  }
 ],
 "metadata": {
  "ExecuteTimeLog": [
   {
    "duration": 200,
    "start_time": "2025-01-31T08:18:08.209Z"
   },
   {
    "duration": 44,
    "start_time": "2025-01-31T08:18:15.830Z"
   },
   {
    "duration": 401,
    "start_time": "2025-01-31T08:18:21.053Z"
   },
   {
    "duration": 18,
    "start_time": "2025-01-31T08:18:21.564Z"
   },
   {
    "duration": 64,
    "start_time": "2025-01-31T08:20:21.525Z"
   },
   {
    "duration": 12,
    "start_time": "2025-01-31T08:30:40.984Z"
   },
   {
    "duration": 28,
    "start_time": "2025-01-31T08:30:47.045Z"
   },
   {
    "duration": 25,
    "start_time": "2025-01-31T08:32:25.874Z"
   },
   {
    "duration": 35,
    "start_time": "2025-01-31T08:33:58.116Z"
   },
   {
    "duration": 17,
    "start_time": "2025-01-31T08:34:05.134Z"
   },
   {
    "duration": 33,
    "start_time": "2025-01-31T08:34:09.263Z"
   },
   {
    "duration": 24,
    "start_time": "2025-01-31T08:57:14.942Z"
   },
   {
    "duration": 9,
    "start_time": "2025-01-31T11:07:14.391Z"
   },
   {
    "duration": 65,
    "start_time": "2025-01-31T11:14:57.087Z"
   },
   {
    "duration": 428,
    "start_time": "2025-01-31T11:15:13.946Z"
   },
   {
    "duration": 190,
    "start_time": "2025-01-31T11:15:14.376Z"
   },
   {
    "duration": 27,
    "start_time": "2025-01-31T11:15:14.567Z"
   },
   {
    "duration": 33,
    "start_time": "2025-01-31T11:15:14.596Z"
   },
   {
    "duration": 81,
    "start_time": "2025-01-31T11:15:14.631Z"
   },
   {
    "duration": 63,
    "start_time": "2025-01-31T11:15:28.662Z"
   },
   {
    "duration": 13,
    "start_time": "2025-01-31T11:15:32.920Z"
   },
   {
    "duration": 18,
    "start_time": "2025-01-31T11:15:44.995Z"
   },
   {
    "duration": 20,
    "start_time": "2025-01-31T11:16:11.564Z"
   },
   {
    "duration": 15,
    "start_time": "2025-01-31T11:16:16.613Z"
   },
   {
    "duration": 14,
    "start_time": "2025-01-31T11:17:12.665Z"
   },
   {
    "duration": 10,
    "start_time": "2025-01-31T11:29:36.745Z"
   },
   {
    "duration": 23,
    "start_time": "2025-01-31T11:34:48.769Z"
   },
   {
    "duration": 10,
    "start_time": "2025-01-31T11:41:45.549Z"
   },
   {
    "duration": 8,
    "start_time": "2025-01-31T11:42:29.492Z"
   },
   {
    "duration": 5,
    "start_time": "2025-01-31T11:42:54.626Z"
   },
   {
    "duration": 10,
    "start_time": "2025-01-31T11:43:02.634Z"
   },
   {
    "duration": 5,
    "start_time": "2025-01-31T11:43:28.055Z"
   },
   {
    "duration": 5,
    "start_time": "2025-01-31T11:43:34.718Z"
   },
   {
    "duration": 15,
    "start_time": "2025-01-31T11:44:14.998Z"
   },
   {
    "duration": 6,
    "start_time": "2025-01-31T11:44:58.818Z"
   },
   {
    "duration": 6,
    "start_time": "2025-01-31T11:45:09.782Z"
   },
   {
    "duration": 6,
    "start_time": "2025-01-31T11:45:22.018Z"
   },
   {
    "duration": 15,
    "start_time": "2025-01-31T11:45:26.854Z"
   },
   {
    "duration": 5,
    "start_time": "2025-01-31T11:46:24.955Z"
   },
   {
    "duration": 9,
    "start_time": "2025-01-31T11:46:46.246Z"
   },
   {
    "duration": 5,
    "start_time": "2025-01-31T11:48:21.586Z"
   },
   {
    "duration": 5,
    "start_time": "2025-01-31T11:48:36.487Z"
   },
   {
    "duration": 14,
    "start_time": "2025-01-31T11:49:17.099Z"
   },
   {
    "duration": 54,
    "start_time": "2025-01-31T11:50:32.152Z"
   },
   {
    "duration": 5,
    "start_time": "2025-01-31T11:50:42.868Z"
   },
   {
    "duration": 27,
    "start_time": "2025-01-31T11:50:52.617Z"
   },
   {
    "duration": 8,
    "start_time": "2025-01-31T11:51:27.952Z"
   },
   {
    "duration": 13,
    "start_time": "2025-01-31T11:51:34.233Z"
   },
   {
    "duration": 446,
    "start_time": "2025-01-31T11:52:59.925Z"
   },
   {
    "duration": 80,
    "start_time": "2025-01-31T11:53:00.373Z"
   },
   {
    "duration": 27,
    "start_time": "2025-01-31T11:53:00.455Z"
   },
   {
    "duration": 74,
    "start_time": "2025-01-31T11:53:00.484Z"
   },
   {
    "duration": 10,
    "start_time": "2025-01-31T11:53:00.560Z"
   },
   {
    "duration": 31,
    "start_time": "2025-01-31T11:53:00.571Z"
   },
   {
    "duration": 21,
    "start_time": "2025-01-31T11:53:00.604Z"
   },
   {
    "duration": 131,
    "start_time": "2025-01-31T11:53:00.627Z"
   },
   {
    "duration": 6,
    "start_time": "2025-01-31T11:53:00.760Z"
   },
   {
    "duration": 28,
    "start_time": "2025-01-31T11:53:00.768Z"
   },
   {
    "duration": 60,
    "start_time": "2025-02-01T13:30:40.254Z"
   },
   {
    "duration": 465,
    "start_time": "2025-02-01T13:31:04.101Z"
   },
   {
    "duration": 79,
    "start_time": "2025-02-01T13:31:04.571Z"
   },
   {
    "duration": 38,
    "start_time": "2025-02-01T13:31:04.652Z"
   },
   {
    "duration": 66,
    "start_time": "2025-02-01T13:31:04.694Z"
   },
   {
    "duration": 20,
    "start_time": "2025-02-01T13:31:04.762Z"
   },
   {
    "duration": 14,
    "start_time": "2025-02-01T13:31:04.785Z"
   },
   {
    "duration": 20,
    "start_time": "2025-02-01T13:31:04.801Z"
   },
   {
    "duration": 131,
    "start_time": "2025-02-01T13:31:04.824Z"
   },
   {
    "duration": 19,
    "start_time": "2025-02-01T13:31:04.957Z"
   },
   {
    "duration": 100,
    "start_time": "2025-02-01T13:31:04.980Z"
   },
   {
    "duration": 18,
    "start_time": "2025-02-01T13:31:27.576Z"
   },
   {
    "duration": 15,
    "start_time": "2025-02-01T13:31:59.118Z"
   },
   {
    "duration": 51,
    "start_time": "2025-02-01T13:35:30.461Z"
   },
   {
    "duration": 5,
    "start_time": "2025-02-01T13:35:30.748Z"
   },
   {
    "duration": 13,
    "start_time": "2025-02-01T13:35:32.286Z"
   },
   {
    "duration": 8,
    "start_time": "2025-02-01T13:35:43.417Z"
   },
   {
    "duration": 5,
    "start_time": "2025-02-01T13:35:43.730Z"
   },
   {
    "duration": 13,
    "start_time": "2025-02-01T13:35:44.683Z"
   },
   {
    "duration": 3917,
    "start_time": "2025-02-01T13:45:16.669Z"
   },
   {
    "duration": 5,
    "start_time": "2025-02-01T13:45:58.098Z"
   },
   {
    "duration": 14,
    "start_time": "2025-02-01T13:46:05.182Z"
   },
   {
    "duration": 24,
    "start_time": "2025-02-01T13:46:34.510Z"
   },
   {
    "duration": 11,
    "start_time": "2025-02-01T13:47:54.528Z"
   },
   {
    "duration": 13,
    "start_time": "2025-02-01T13:48:27.789Z"
   },
   {
    "duration": 0,
    "start_time": "2025-02-01T13:49:33.620Z"
   },
   {
    "duration": 463,
    "start_time": "2025-02-01T13:49:56.450Z"
   },
   {
    "duration": 71,
    "start_time": "2025-02-01T13:49:56.916Z"
   },
   {
    "duration": 28,
    "start_time": "2025-02-01T13:49:56.988Z"
   },
   {
    "duration": 55,
    "start_time": "2025-02-01T13:49:57.018Z"
   },
   {
    "duration": 11,
    "start_time": "2025-02-01T13:49:57.075Z"
   },
   {
    "duration": 5,
    "start_time": "2025-02-01T13:49:57.088Z"
   },
   {
    "duration": 17,
    "start_time": "2025-02-01T13:49:57.094Z"
   },
   {
    "duration": 7,
    "start_time": "2025-02-01T13:49:57.113Z"
   },
   {
    "duration": 5,
    "start_time": "2025-02-01T13:49:57.122Z"
   },
   {
    "duration": 112,
    "start_time": "2025-02-01T13:49:57.129Z"
   },
   {
    "duration": 0,
    "start_time": "2025-02-01T13:49:57.243Z"
   },
   {
    "duration": 6,
    "start_time": "2025-02-01T13:50:38.532Z"
   },
   {
    "duration": 9,
    "start_time": "2025-02-01T13:51:19.846Z"
   },
   {
    "duration": 10,
    "start_time": "2025-02-01T13:52:16.889Z"
   },
   {
    "duration": 10,
    "start_time": "2025-02-01T13:52:37.217Z"
   },
   {
    "duration": 11,
    "start_time": "2025-02-01T13:52:52.139Z"
   },
   {
    "duration": 11,
    "start_time": "2025-02-01T13:53:00.702Z"
   },
   {
    "duration": 12,
    "start_time": "2025-02-01T13:53:20.959Z"
   },
   {
    "duration": 11,
    "start_time": "2025-02-01T13:53:38.130Z"
   },
   {
    "duration": 12,
    "start_time": "2025-02-01T13:54:20.679Z"
   },
   {
    "duration": 15,
    "start_time": "2025-02-01T13:54:26.284Z"
   },
   {
    "duration": 10,
    "start_time": "2025-02-01T13:54:43.646Z"
   },
   {
    "duration": 6,
    "start_time": "2025-02-01T13:55:59.322Z"
   },
   {
    "duration": 2650,
    "start_time": "2025-02-01T13:56:09.238Z"
   },
   {
    "duration": 7,
    "start_time": "2025-02-01T14:00:10.624Z"
   },
   {
    "duration": 163,
    "start_time": "2025-02-01T14:01:17.357Z"
   },
   {
    "duration": 24,
    "start_time": "2025-02-01T14:01:38.171Z"
   },
   {
    "duration": 185,
    "start_time": "2025-02-01T14:01:42.232Z"
   },
   {
    "duration": 191,
    "start_time": "2025-02-01T14:01:51.172Z"
   },
   {
    "duration": 194,
    "start_time": "2025-02-01T14:02:31.635Z"
   },
   {
    "duration": 27,
    "start_time": "2025-02-01T14:02:52.278Z"
   },
   {
    "duration": 14542,
    "start_time": "2025-02-01T14:03:57.341Z"
   },
   {
    "duration": 2,
    "start_time": "2025-02-01T14:05:39.165Z"
   },
   {
    "duration": 77,
    "start_time": "2025-02-01T14:05:39.602Z"
   },
   {
    "duration": 84,
    "start_time": "2025-02-01T14:05:39.786Z"
   },
   {
    "duration": 29,
    "start_time": "2025-02-01T14:05:39.982Z"
   },
   {
    "duration": 10,
    "start_time": "2025-02-01T14:05:40.563Z"
   },
   {
    "duration": 5,
    "start_time": "2025-02-01T14:05:40.911Z"
   },
   {
    "duration": 19,
    "start_time": "2025-02-01T14:05:41.092Z"
   },
   {
    "duration": 7,
    "start_time": "2025-02-01T14:05:41.565Z"
   },
   {
    "duration": 8,
    "start_time": "2025-02-01T14:05:41.575Z"
   },
   {
    "duration": 6,
    "start_time": "2025-02-01T14:05:42.070Z"
   },
   {
    "duration": 178,
    "start_time": "2025-02-01T14:05:42.335Z"
   },
   {
    "duration": 9,
    "start_time": "2025-02-01T14:05:46.655Z"
   },
   {
    "duration": 12020,
    "start_time": "2025-02-01T14:05:46.667Z"
   },
   {
    "duration": 0,
    "start_time": "2025-02-01T14:05:58.690Z"
   },
   {
    "duration": 12,
    "start_time": "2025-02-01T14:06:10.828Z"
   },
   {
    "duration": 16,
    "start_time": "2025-02-01T14:06:46.996Z"
   },
   {
    "duration": 10,
    "start_time": "2025-02-01T14:07:16.151Z"
   },
   {
    "duration": 780,
    "start_time": "2025-02-01T14:07:28.323Z"
   },
   {
    "duration": 88,
    "start_time": "2025-02-01T14:07:29.106Z"
   },
   {
    "duration": 31,
    "start_time": "2025-02-01T14:07:29.196Z"
   },
   {
    "duration": 50,
    "start_time": "2025-02-01T14:07:29.230Z"
   },
   {
    "duration": 15,
    "start_time": "2025-02-01T14:07:29.283Z"
   },
   {
    "duration": 9,
    "start_time": "2025-02-01T14:07:29.300Z"
   },
   {
    "duration": 21,
    "start_time": "2025-02-01T14:07:29.311Z"
   },
   {
    "duration": 87,
    "start_time": "2025-02-01T14:07:29.334Z"
   },
   {
    "duration": 9,
    "start_time": "2025-02-01T14:07:29.423Z"
   },
   {
    "duration": 7,
    "start_time": "2025-02-01T14:07:29.434Z"
   },
   {
    "duration": 210,
    "start_time": "2025-02-01T14:07:29.443Z"
   },
   {
    "duration": 5,
    "start_time": "2025-02-01T14:07:29.655Z"
   },
   {
    "duration": 101,
    "start_time": "2025-02-01T14:07:29.674Z"
   },
   {
    "duration": 0,
    "start_time": "2025-02-01T14:07:29.779Z"
   },
   {
    "duration": 12,
    "start_time": "2025-02-01T14:09:47.414Z"
   },
   {
    "duration": 6,
    "start_time": "2025-02-01T14:09:56.288Z"
   },
   {
    "duration": 18,
    "start_time": "2025-02-01T14:11:24.495Z"
   },
   {
    "duration": 114,
    "start_time": "2025-02-01T14:15:34.103Z"
   },
   {
    "duration": 27,
    "start_time": "2025-02-01T14:16:13.771Z"
   },
   {
    "duration": 137,
    "start_time": "2025-02-01T14:16:21.678Z"
   },
   {
    "duration": 136,
    "start_time": "2025-02-01T14:16:44.279Z"
   },
   {
    "duration": 190,
    "start_time": "2025-02-01T14:16:56.729Z"
   },
   {
    "duration": 5,
    "start_time": "2025-02-01T14:18:10.625Z"
   },
   {
    "duration": 8,
    "start_time": "2025-02-01T14:18:58.991Z"
   },
   {
    "duration": 6,
    "start_time": "2025-02-01T14:19:04.405Z"
   },
   {
    "duration": 174,
    "start_time": "2025-02-01T14:20:13.421Z"
   },
   {
    "duration": 9,
    "start_time": "2025-02-01T14:23:16.796Z"
   },
   {
    "duration": 17,
    "start_time": "2025-02-01T14:23:47.370Z"
   },
   {
    "duration": 206,
    "start_time": "2025-02-01T14:24:46.623Z"
   },
   {
    "duration": 293,
    "start_time": "2025-02-01T14:24:57.820Z"
   },
   {
    "duration": 111,
    "start_time": "2025-02-01T14:25:44.063Z"
   },
   {
    "duration": 124,
    "start_time": "2025-02-01T14:30:06.349Z"
   },
   {
    "duration": 96,
    "start_time": "2025-02-01T14:30:22.348Z"
   },
   {
    "duration": 99,
    "start_time": "2025-02-01T14:30:27.197Z"
   },
   {
    "duration": 94,
    "start_time": "2025-02-01T14:30:30.636Z"
   },
   {
    "duration": 99,
    "start_time": "2025-02-01T14:30:38.501Z"
   },
   {
    "duration": 176,
    "start_time": "2025-02-01T14:30:43.311Z"
   },
   {
    "duration": 98,
    "start_time": "2025-02-01T14:30:48.434Z"
   },
   {
    "duration": 9,
    "start_time": "2025-02-01T14:34:19.989Z"
   },
   {
    "duration": 18,
    "start_time": "2025-02-01T14:34:27.389Z"
   },
   {
    "duration": 291,
    "start_time": "2025-02-01T14:35:22.198Z"
   },
   {
    "duration": 272,
    "start_time": "2025-02-01T14:35:35.114Z"
   },
   {
    "duration": 274,
    "start_time": "2025-02-01T14:40:55.208Z"
   },
   {
    "duration": 289,
    "start_time": "2025-02-01T14:41:32.888Z"
   },
   {
    "duration": 409,
    "start_time": "2025-02-01T14:42:35.757Z"
   },
   {
    "duration": 116,
    "start_time": "2025-02-01T14:42:48.374Z"
   },
   {
    "duration": 103,
    "start_time": "2025-02-01T14:43:03.618Z"
   },
   {
    "duration": 105,
    "start_time": "2025-02-01T14:43:08.886Z"
   },
   {
    "duration": 197,
    "start_time": "2025-02-01T14:43:19.329Z"
   },
   {
    "duration": 97,
    "start_time": "2025-02-01T14:43:23.757Z"
   },
   {
    "duration": 304,
    "start_time": "2025-02-01T14:44:07.247Z"
   },
   {
    "duration": 32,
    "start_time": "2025-02-01T14:46:03.397Z"
   },
   {
    "duration": 1885,
    "start_time": "2025-02-01T14:46:28.618Z"
   },
   {
    "duration": 73,
    "start_time": "2025-02-01T14:46:30.505Z"
   },
   {
    "duration": 33,
    "start_time": "2025-02-01T14:46:30.580Z"
   },
   {
    "duration": 59,
    "start_time": "2025-02-01T14:46:30.615Z"
   },
   {
    "duration": 13,
    "start_time": "2025-02-01T14:46:30.676Z"
   },
   {
    "duration": 28,
    "start_time": "2025-02-01T14:46:30.690Z"
   },
   {
    "duration": 20,
    "start_time": "2025-02-01T14:46:30.720Z"
   },
   {
    "duration": 7,
    "start_time": "2025-02-01T14:46:30.742Z"
   },
   {
    "duration": 31,
    "start_time": "2025-02-01T14:46:30.751Z"
   },
   {
    "duration": 20,
    "start_time": "2025-02-01T14:46:30.785Z"
   },
   {
    "duration": 204,
    "start_time": "2025-02-01T14:46:30.807Z"
   },
   {
    "duration": 6,
    "start_time": "2025-02-01T14:46:31.013Z"
   },
   {
    "duration": 130,
    "start_time": "2025-02-01T14:46:31.021Z"
   },
   {
    "duration": 20,
    "start_time": "2025-02-01T14:46:31.153Z"
   },
   {
    "duration": 201,
    "start_time": "2025-02-01T14:46:31.176Z"
   },
   {
    "duration": 378,
    "start_time": "2025-02-01T14:46:31.379Z"
   },
   {
    "duration": 118,
    "start_time": "2025-02-01T14:46:31.759Z"
   },
   {
    "duration": 296,
    "start_time": "2025-02-01T14:46:31.878Z"
   },
   {
    "duration": 313,
    "start_time": "2025-02-01T14:46:32.176Z"
   },
   {
    "duration": 116,
    "start_time": "2025-02-01T14:46:32.491Z"
   },
   {
    "duration": 286,
    "start_time": "2025-02-01T14:46:32.609Z"
   },
   {
    "duration": 32,
    "start_time": "2025-02-01T14:46:32.897Z"
   },
   {
    "duration": 21,
    "start_time": "2025-02-01T14:46:38.979Z"
   },
   {
    "duration": 34,
    "start_time": "2025-02-01T14:46:58.503Z"
   },
   {
    "duration": 1722,
    "start_time": "2025-02-01T14:47:10.992Z"
   },
   {
    "duration": 71,
    "start_time": "2025-02-01T14:47:12.716Z"
   },
   {
    "duration": 28,
    "start_time": "2025-02-01T14:47:12.789Z"
   },
   {
    "duration": 32,
    "start_time": "2025-02-01T14:47:12.819Z"
   },
   {
    "duration": 25,
    "start_time": "2025-02-01T14:47:12.853Z"
   },
   {
    "duration": 6,
    "start_time": "2025-02-01T14:47:12.880Z"
   },
   {
    "duration": 17,
    "start_time": "2025-02-01T14:47:12.888Z"
   },
   {
    "duration": 7,
    "start_time": "2025-02-01T14:47:12.907Z"
   },
   {
    "duration": 11,
    "start_time": "2025-02-01T14:47:12.915Z"
   },
   {
    "duration": 6,
    "start_time": "2025-02-01T14:47:12.929Z"
   },
   {
    "duration": 222,
    "start_time": "2025-02-01T14:47:12.937Z"
   },
   {
    "duration": 16,
    "start_time": "2025-02-01T14:47:13.161Z"
   },
   {
    "duration": 132,
    "start_time": "2025-02-01T14:47:13.179Z"
   },
   {
    "duration": 6,
    "start_time": "2025-02-01T14:47:13.313Z"
   },
   {
    "duration": 197,
    "start_time": "2025-02-01T14:47:13.321Z"
   },
   {
    "duration": 362,
    "start_time": "2025-02-01T14:47:13.520Z"
   },
   {
    "duration": 113,
    "start_time": "2025-02-01T14:47:13.884Z"
   },
   {
    "duration": 276,
    "start_time": "2025-02-01T14:47:13.998Z"
   },
   {
    "duration": 304,
    "start_time": "2025-02-01T14:47:14.276Z"
   },
   {
    "duration": 116,
    "start_time": "2025-02-01T14:47:14.582Z"
   },
   {
    "duration": 310,
    "start_time": "2025-02-01T14:47:14.700Z"
   },
   {
    "duration": 32,
    "start_time": "2025-02-01T14:47:15.012Z"
   },
   {
    "duration": 47,
    "start_time": "2025-02-01T14:47:15.046Z"
   },
   {
    "duration": 19,
    "start_time": "2025-02-01T14:48:04.543Z"
   },
   {
    "duration": 18,
    "start_time": "2025-02-01T14:48:05.045Z"
   },
   {
    "duration": 9,
    "start_time": "2025-02-01T14:52:35.260Z"
   },
   {
    "duration": 19,
    "start_time": "2025-02-01T14:52:48.417Z"
   },
   {
    "duration": 10,
    "start_time": "2025-02-01T14:53:30.342Z"
   },
   {
    "duration": 243,
    "start_time": "2025-02-01T14:59:40.357Z"
   },
   {
    "duration": 292,
    "start_time": "2025-02-01T15:00:08.861Z"
   },
   {
    "duration": 162,
    "start_time": "2025-02-01T15:12:47.862Z"
   },
   {
    "duration": 187,
    "start_time": "2025-02-01T15:13:06.240Z"
   },
   {
    "duration": 180,
    "start_time": "2025-02-01T15:13:57.181Z"
   },
   {
    "duration": 183,
    "start_time": "2025-02-01T15:15:54.521Z"
   },
   {
    "duration": 300,
    "start_time": "2025-02-01T15:16:49.614Z"
   },
   {
    "duration": 319,
    "start_time": "2025-02-01T15:17:09.223Z"
   },
   {
    "duration": 2881,
    "start_time": "2025-02-01T15:17:22.291Z"
   },
   {
    "duration": 74,
    "start_time": "2025-02-01T15:17:25.174Z"
   },
   {
    "duration": 31,
    "start_time": "2025-02-01T15:17:25.250Z"
   },
   {
    "duration": 34,
    "start_time": "2025-02-01T15:17:25.283Z"
   },
   {
    "duration": 14,
    "start_time": "2025-02-01T15:17:25.320Z"
   },
   {
    "duration": 8,
    "start_time": "2025-02-01T15:17:25.336Z"
   },
   {
    "duration": 18,
    "start_time": "2025-02-01T15:17:25.371Z"
   },
   {
    "duration": 7,
    "start_time": "2025-02-01T15:17:25.391Z"
   },
   {
    "duration": 7,
    "start_time": "2025-02-01T15:17:25.400Z"
   },
   {
    "duration": 8,
    "start_time": "2025-02-01T15:17:25.409Z"
   },
   {
    "duration": 261,
    "start_time": "2025-02-01T15:17:25.420Z"
   },
   {
    "duration": 7,
    "start_time": "2025-02-01T15:17:25.684Z"
   },
   {
    "duration": 147,
    "start_time": "2025-02-01T15:17:25.694Z"
   },
   {
    "duration": 6,
    "start_time": "2025-02-01T15:17:25.846Z"
   },
   {
    "duration": 224,
    "start_time": "2025-02-01T15:17:25.854Z"
   },
   {
    "duration": 378,
    "start_time": "2025-02-01T15:17:26.081Z"
   },
   {
    "duration": 118,
    "start_time": "2025-02-01T15:17:26.461Z"
   },
   {
    "duration": 280,
    "start_time": "2025-02-01T15:17:26.581Z"
   },
   {
    "duration": 308,
    "start_time": "2025-02-01T15:17:26.864Z"
   },
   {
    "duration": 118,
    "start_time": "2025-02-01T15:17:27.174Z"
   },
   {
    "duration": 317,
    "start_time": "2025-02-01T15:17:27.294Z"
   },
   {
    "duration": 19,
    "start_time": "2025-02-01T15:17:27.613Z"
   },
   {
    "duration": 17,
    "start_time": "2025-02-01T15:17:27.634Z"
   },
   {
    "duration": 11,
    "start_time": "2025-02-01T15:17:27.671Z"
   },
   {
    "duration": 192,
    "start_time": "2025-02-01T15:17:27.683Z"
   },
   {
    "duration": 197,
    "start_time": "2025-02-01T15:17:27.877Z"
   },
   {
    "duration": 267,
    "start_time": "2025-02-01T15:17:58.442Z"
   },
   {
    "duration": 181,
    "start_time": "2025-02-01T15:18:13.968Z"
   },
   {
    "duration": 99,
    "start_time": "2025-02-01T15:22:57.505Z"
   },
   {
    "duration": 32,
    "start_time": "2025-02-01T15:23:05.844Z"
   },
   {
    "duration": 72,
    "start_time": "2025-02-02T07:52:34.244Z"
   },
   {
    "duration": 842,
    "start_time": "2025-02-02T07:52:39.749Z"
   },
   {
    "duration": 75,
    "start_time": "2025-02-02T07:52:40.594Z"
   },
   {
    "duration": 39,
    "start_time": "2025-02-02T07:52:40.671Z"
   },
   {
    "duration": 42,
    "start_time": "2025-02-02T07:52:40.713Z"
   },
   {
    "duration": 14,
    "start_time": "2025-02-02T07:52:40.757Z"
   },
   {
    "duration": 10,
    "start_time": "2025-02-02T07:52:40.773Z"
   },
   {
    "duration": 43,
    "start_time": "2025-02-02T07:52:40.785Z"
   },
   {
    "duration": 8,
    "start_time": "2025-02-02T07:52:40.830Z"
   },
   {
    "duration": 5,
    "start_time": "2025-02-02T07:52:40.840Z"
   },
   {
    "duration": 14,
    "start_time": "2025-02-02T07:52:40.848Z"
   },
   {
    "duration": 202,
    "start_time": "2025-02-02T07:52:40.864Z"
   },
   {
    "duration": 7,
    "start_time": "2025-02-02T07:52:41.068Z"
   },
   {
    "duration": 174,
    "start_time": "2025-02-02T07:52:41.077Z"
   },
   {
    "duration": 6,
    "start_time": "2025-02-02T07:52:41.252Z"
   },
   {
    "duration": 187,
    "start_time": "2025-02-02T07:52:41.261Z"
   },
   {
    "duration": 350,
    "start_time": "2025-02-02T07:52:41.450Z"
   },
   {
    "duration": 133,
    "start_time": "2025-02-02T07:52:41.802Z"
   },
   {
    "duration": 279,
    "start_time": "2025-02-02T07:52:41.937Z"
   },
   {
    "duration": 344,
    "start_time": "2025-02-02T07:52:42.218Z"
   },
   {
    "duration": 116,
    "start_time": "2025-02-02T07:52:42.564Z"
   },
   {
    "duration": 345,
    "start_time": "2025-02-02T07:52:42.682Z"
   },
   {
    "duration": 24,
    "start_time": "2025-02-02T07:52:43.029Z"
   },
   {
    "duration": 18,
    "start_time": "2025-02-02T07:52:43.055Z"
   },
   {
    "duration": 36,
    "start_time": "2025-02-02T07:52:43.075Z"
   },
   {
    "duration": 196,
    "start_time": "2025-02-02T07:52:43.113Z"
   },
   {
    "duration": 188,
    "start_time": "2025-02-02T07:52:43.312Z"
   },
   {
    "duration": 6,
    "start_time": "2025-02-02T07:52:43.508Z"
   },
   {
    "duration": 30,
    "start_time": "2025-02-02T07:52:55.788Z"
   },
   {
    "duration": 160,
    "start_time": "2025-02-02T07:55:01.926Z"
   },
   {
    "duration": 20,
    "start_time": "2025-02-02T07:55:11.247Z"
   },
   {
    "duration": 5,
    "start_time": "2025-02-02T08:04:29.536Z"
   },
   {
    "duration": 12,
    "start_time": "2025-02-02T08:06:35.568Z"
   },
   {
    "duration": 11,
    "start_time": "2025-02-02T08:13:01.722Z"
   },
   {
    "duration": 18,
    "start_time": "2025-02-02T08:15:00.268Z"
   },
   {
    "duration": 118,
    "start_time": "2025-02-02T08:15:09.647Z"
   },
   {
    "duration": 18,
    "start_time": "2025-02-02T08:15:17.163Z"
   },
   {
    "duration": 21,
    "start_time": "2025-02-02T08:15:48.127Z"
   },
   {
    "duration": 26,
    "start_time": "2025-02-02T08:16:16.149Z"
   },
   {
    "duration": 20,
    "start_time": "2025-02-02T08:16:28.084Z"
   },
   {
    "duration": 23,
    "start_time": "2025-02-02T08:17:23.369Z"
   },
   {
    "duration": 21,
    "start_time": "2025-02-02T08:17:39.232Z"
   },
   {
    "duration": 12,
    "start_time": "2025-02-02T08:18:15.077Z"
   },
   {
    "duration": 697,
    "start_time": "2025-02-02T08:18:34.465Z"
   },
   {
    "duration": 78,
    "start_time": "2025-02-02T08:18:35.164Z"
   },
   {
    "duration": 29,
    "start_time": "2025-02-02T08:18:35.244Z"
   },
   {
    "duration": 30,
    "start_time": "2025-02-02T08:18:35.275Z"
   },
   {
    "duration": 20,
    "start_time": "2025-02-02T08:18:35.309Z"
   },
   {
    "duration": 10,
    "start_time": "2025-02-02T08:18:35.332Z"
   },
   {
    "duration": 27,
    "start_time": "2025-02-02T08:18:35.344Z"
   },
   {
    "duration": 8,
    "start_time": "2025-02-02T08:18:35.373Z"
   },
   {
    "duration": 10,
    "start_time": "2025-02-02T08:18:35.383Z"
   },
   {
    "duration": 24,
    "start_time": "2025-02-02T08:18:35.418Z"
   },
   {
    "duration": 262,
    "start_time": "2025-02-02T08:18:35.444Z"
   },
   {
    "duration": 24,
    "start_time": "2025-02-02T08:18:35.708Z"
   },
   {
    "duration": 139,
    "start_time": "2025-02-02T08:18:35.734Z"
   },
   {
    "duration": 6,
    "start_time": "2025-02-02T08:18:35.877Z"
   },
   {
    "duration": 208,
    "start_time": "2025-02-02T08:18:35.885Z"
   },
   {
    "duration": 391,
    "start_time": "2025-02-02T08:18:36.095Z"
   },
   {
    "duration": 138,
    "start_time": "2025-02-02T08:18:36.488Z"
   },
   {
    "duration": 365,
    "start_time": "2025-02-02T08:18:36.635Z"
   },
   {
    "duration": 332,
    "start_time": "2025-02-02T08:18:37.002Z"
   },
   {
    "duration": 123,
    "start_time": "2025-02-02T08:18:37.336Z"
   },
   {
    "duration": 386,
    "start_time": "2025-02-02T08:18:37.461Z"
   },
   {
    "duration": 27,
    "start_time": "2025-02-02T08:18:37.850Z"
   },
   {
    "duration": 49,
    "start_time": "2025-02-02T08:18:37.879Z"
   },
   {
    "duration": 11,
    "start_time": "2025-02-02T08:18:37.934Z"
   },
   {
    "duration": 207,
    "start_time": "2025-02-02T08:18:37.947Z"
   },
   {
    "duration": 211,
    "start_time": "2025-02-02T08:18:38.156Z"
   },
   {
    "duration": 20,
    "start_time": "2025-02-02T08:18:38.369Z"
   },
   {
    "duration": 66,
    "start_time": "2025-02-02T08:18:38.391Z"
   },
   {
    "duration": 8,
    "start_time": "2025-02-02T08:25:53.394Z"
   },
   {
    "duration": 9,
    "start_time": "2025-02-02T08:26:02.807Z"
   },
   {
    "duration": 90,
    "start_time": "2025-02-02T08:29:28.558Z"
   },
   {
    "duration": 25,
    "start_time": "2025-02-02T08:33:08.708Z"
   },
   {
    "duration": 15,
    "start_time": "2025-02-02T08:33:28.777Z"
   },
   {
    "duration": 18,
    "start_time": "2025-02-02T08:33:44.455Z"
   },
   {
    "duration": 19,
    "start_time": "2025-02-02T08:34:14.986Z"
   },
   {
    "duration": 16,
    "start_time": "2025-02-02T08:34:26.223Z"
   },
   {
    "duration": 18,
    "start_time": "2025-02-02T08:34:28.406Z"
   },
   {
    "duration": 82,
    "start_time": "2025-02-02T08:35:51.333Z"
   },
   {
    "duration": 9,
    "start_time": "2025-02-02T08:35:51.954Z"
   },
   {
    "duration": 12,
    "start_time": "2025-02-02T08:37:46.434Z"
   },
   {
    "duration": 10,
    "start_time": "2025-02-02T08:37:46.939Z"
   },
   {
    "duration": 19,
    "start_time": "2025-02-02T08:38:01.026Z"
   },
   {
    "duration": 18,
    "start_time": "2025-02-02T08:38:01.409Z"
   },
   {
    "duration": 13,
    "start_time": "2025-02-02T08:38:18.869Z"
   },
   {
    "duration": 9,
    "start_time": "2025-02-02T08:38:19.146Z"
   },
   {
    "duration": 634,
    "start_time": "2025-02-02T08:38:39.677Z"
   },
   {
    "duration": 69,
    "start_time": "2025-02-02T08:38:40.314Z"
   },
   {
    "duration": 24,
    "start_time": "2025-02-02T08:38:40.385Z"
   },
   {
    "duration": 43,
    "start_time": "2025-02-02T08:38:40.413Z"
   },
   {
    "duration": 10,
    "start_time": "2025-02-02T08:38:40.457Z"
   },
   {
    "duration": 6,
    "start_time": "2025-02-02T08:38:40.469Z"
   },
   {
    "duration": 47,
    "start_time": "2025-02-02T08:38:40.476Z"
   },
   {
    "duration": 7,
    "start_time": "2025-02-02T08:38:40.525Z"
   },
   {
    "duration": 5,
    "start_time": "2025-02-02T08:38:40.533Z"
   },
   {
    "duration": 5,
    "start_time": "2025-02-02T08:38:40.541Z"
   },
   {
    "duration": 197,
    "start_time": "2025-02-02T08:38:40.547Z"
   },
   {
    "duration": 6,
    "start_time": "2025-02-02T08:38:40.745Z"
   },
   {
    "duration": 132,
    "start_time": "2025-02-02T08:38:40.752Z"
   },
   {
    "duration": 5,
    "start_time": "2025-02-02T08:38:40.886Z"
   },
   {
    "duration": 199,
    "start_time": "2025-02-02T08:38:40.893Z"
   },
   {
    "duration": 356,
    "start_time": "2025-02-02T08:38:41.093Z"
   },
   {
    "duration": 107,
    "start_time": "2025-02-02T08:38:41.451Z"
   },
   {
    "duration": 285,
    "start_time": "2025-02-02T08:38:41.559Z"
   },
   {
    "duration": 302,
    "start_time": "2025-02-02T08:38:41.846Z"
   },
   {
    "duration": 131,
    "start_time": "2025-02-02T08:38:42.150Z"
   },
   {
    "duration": 344,
    "start_time": "2025-02-02T08:38:42.283Z"
   },
   {
    "duration": 28,
    "start_time": "2025-02-02T08:38:42.629Z"
   },
   {
    "duration": 23,
    "start_time": "2025-02-02T08:38:42.659Z"
   },
   {
    "duration": 40,
    "start_time": "2025-02-02T08:38:42.683Z"
   },
   {
    "duration": 216,
    "start_time": "2025-02-02T08:38:42.726Z"
   },
   {
    "duration": 220,
    "start_time": "2025-02-02T08:38:42.945Z"
   },
   {
    "duration": 14,
    "start_time": "2025-02-02T08:38:43.167Z"
   },
   {
    "duration": 9,
    "start_time": "2025-02-02T08:38:43.185Z"
   },
   {
    "duration": 1150,
    "start_time": "2025-02-02T08:54:50.498Z"
   },
   {
    "duration": 12,
    "start_time": "2025-02-02T08:56:02.798Z"
   },
   {
    "duration": 5,
    "start_time": "2025-02-02T08:56:11.996Z"
   },
   {
    "duration": 5,
    "start_time": "2025-02-02T09:01:04.946Z"
   },
   {
    "duration": 27,
    "start_time": "2025-02-02T09:01:22.555Z"
   },
   {
    "duration": 27,
    "start_time": "2025-02-02T09:01:32.026Z"
   },
   {
    "duration": 26,
    "start_time": "2025-02-02T09:02:29.995Z"
   },
   {
    "duration": 20,
    "start_time": "2025-02-02T09:02:36.169Z"
   },
   {
    "duration": 135,
    "start_time": "2025-02-02T09:03:00.171Z"
   },
   {
    "duration": 30,
    "start_time": "2025-02-02T09:03:07.246Z"
   },
   {
    "duration": 30,
    "start_time": "2025-02-02T09:03:46.723Z"
   },
   {
    "duration": 41,
    "start_time": "2025-02-02T09:09:01.903Z"
   },
   {
    "duration": 24,
    "start_time": "2025-02-02T09:09:16.850Z"
   },
   {
    "duration": 1124,
    "start_time": "2025-02-02T09:11:06.663Z"
   },
   {
    "duration": 1101,
    "start_time": "2025-02-02T09:12:20.606Z"
   },
   {
    "duration": 32,
    "start_time": "2025-02-02T09:15:04.497Z"
   },
   {
    "duration": 30,
    "start_time": "2025-02-02T09:16:11.302Z"
   },
   {
    "duration": 39,
    "start_time": "2025-02-02T09:16:24.425Z"
   },
   {
    "duration": 37,
    "start_time": "2025-02-02T09:16:42.527Z"
   },
   {
    "duration": 33,
    "start_time": "2025-02-02T09:17:39.398Z"
   },
   {
    "duration": 33,
    "start_time": "2025-02-02T09:17:58.195Z"
   },
   {
    "duration": 28,
    "start_time": "2025-02-02T09:18:06.365Z"
   },
   {
    "duration": 23,
    "start_time": "2025-02-02T09:18:59.084Z"
   },
   {
    "duration": 37,
    "start_time": "2025-02-02T09:19:24.407Z"
   },
   {
    "duration": 32,
    "start_time": "2025-02-02T09:19:30.022Z"
   },
   {
    "duration": 23,
    "start_time": "2025-02-02T09:19:36.143Z"
   },
   {
    "duration": 26,
    "start_time": "2025-02-02T09:19:41.535Z"
   },
   {
    "duration": 25,
    "start_time": "2025-02-02T09:20:18.655Z"
   },
   {
    "duration": 27,
    "start_time": "2025-02-02T09:20:33.978Z"
   },
   {
    "duration": 1244,
    "start_time": "2025-02-02T09:21:25.298Z"
   },
   {
    "duration": 1031,
    "start_time": "2025-02-02T09:21:55.677Z"
   },
   {
    "duration": 44,
    "start_time": "2025-02-02T09:24:06.295Z"
   },
   {
    "duration": 321,
    "start_time": "2025-02-02T09:26:06.063Z"
   },
   {
    "duration": 43,
    "start_time": "2025-02-02T09:26:33.604Z"
   },
   {
    "duration": 24,
    "start_time": "2025-02-02T09:26:43.184Z"
   },
   {
    "duration": 30,
    "start_time": "2025-02-02T09:28:53.653Z"
   },
   {
    "duration": 33,
    "start_time": "2025-02-02T09:29:29.563Z"
   },
   {
    "duration": 32,
    "start_time": "2025-02-02T09:29:41.250Z"
   },
   {
    "duration": 24,
    "start_time": "2025-02-02T09:29:44.674Z"
   },
   {
    "duration": 32,
    "start_time": "2025-02-02T09:31:44.795Z"
   },
   {
    "duration": 38,
    "start_time": "2025-02-02T09:31:50.312Z"
   },
   {
    "duration": 51,
    "start_time": "2025-02-02T09:31:59.205Z"
   },
   {
    "duration": 29,
    "start_time": "2025-02-02T09:32:06.221Z"
   },
   {
    "duration": 805,
    "start_time": "2025-02-02T09:32:11.989Z"
   },
   {
    "duration": 97,
    "start_time": "2025-02-02T09:32:12.796Z"
   },
   {
    "duration": 45,
    "start_time": "2025-02-02T09:32:12.895Z"
   },
   {
    "duration": 33,
    "start_time": "2025-02-02T09:32:12.949Z"
   },
   {
    "duration": 10,
    "start_time": "2025-02-02T09:32:12.984Z"
   },
   {
    "duration": 32,
    "start_time": "2025-02-02T09:32:12.996Z"
   },
   {
    "duration": 22,
    "start_time": "2025-02-02T09:32:13.040Z"
   },
   {
    "duration": 6,
    "start_time": "2025-02-02T09:32:13.064Z"
   },
   {
    "duration": 6,
    "start_time": "2025-02-02T09:32:13.072Z"
   },
   {
    "duration": 7,
    "start_time": "2025-02-02T09:32:13.081Z"
   },
   {
    "duration": 260,
    "start_time": "2025-02-02T09:32:13.090Z"
   },
   {
    "duration": 6,
    "start_time": "2025-02-02T09:32:13.351Z"
   },
   {
    "duration": 131,
    "start_time": "2025-02-02T09:32:13.358Z"
   },
   {
    "duration": 6,
    "start_time": "2025-02-02T09:32:13.490Z"
   },
   {
    "duration": 184,
    "start_time": "2025-02-02T09:32:13.513Z"
   },
   {
    "duration": 396,
    "start_time": "2025-02-02T09:32:13.699Z"
   },
   {
    "duration": 105,
    "start_time": "2025-02-02T09:32:14.097Z"
   },
   {
    "duration": 316,
    "start_time": "2025-02-02T09:32:14.204Z"
   },
   {
    "duration": 337,
    "start_time": "2025-02-02T09:32:14.523Z"
   },
   {
    "duration": 116,
    "start_time": "2025-02-02T09:32:14.861Z"
   },
   {
    "duration": 345,
    "start_time": "2025-02-02T09:32:14.979Z"
   },
   {
    "duration": 29,
    "start_time": "2025-02-02T09:32:15.327Z"
   },
   {
    "duration": 18,
    "start_time": "2025-02-02T09:32:15.358Z"
   },
   {
    "duration": 9,
    "start_time": "2025-02-02T09:32:15.378Z"
   },
   {
    "duration": 211,
    "start_time": "2025-02-02T09:32:15.388Z"
   },
   {
    "duration": 189,
    "start_time": "2025-02-02T09:32:15.601Z"
   },
   {
    "duration": 48,
    "start_time": "2025-02-02T09:32:15.792Z"
   },
   {
    "duration": 12,
    "start_time": "2025-02-02T09:32:15.845Z"
   },
   {
    "duration": 24,
    "start_time": "2025-02-02T09:32:15.858Z"
   },
   {
    "duration": 13,
    "start_time": "2025-02-02T09:32:15.884Z"
   },
   {
    "duration": 29,
    "start_time": "2025-02-02T09:32:25.706Z"
   },
   {
    "duration": 15,
    "start_time": "2025-02-02T09:32:52.550Z"
   },
   {
    "duration": 19,
    "start_time": "2025-02-02T09:33:17.446Z"
   },
   {
    "duration": 27,
    "start_time": "2025-02-02T09:34:06.920Z"
   },
   {
    "duration": 22,
    "start_time": "2025-02-02T09:34:33.491Z"
   },
   {
    "duration": 453,
    "start_time": "2025-02-02T09:34:49.728Z"
   },
   {
    "duration": 17,
    "start_time": "2025-02-02T09:36:12.367Z"
   },
   {
    "duration": 826,
    "start_time": "2025-02-02T09:36:52.803Z"
   },
   {
    "duration": 25,
    "start_time": "2025-02-02T09:37:18.838Z"
   },
   {
    "duration": 299,
    "start_time": "2025-02-02T09:37:34.295Z"
   },
   {
    "duration": 18,
    "start_time": "2025-02-02T09:37:52.641Z"
   },
   {
    "duration": 34,
    "start_time": "2025-02-02T09:40:13.183Z"
   },
   {
    "duration": 18,
    "start_time": "2025-02-02T09:40:47.483Z"
   },
   {
    "duration": 30,
    "start_time": "2025-02-02T09:48:19.111Z"
   },
   {
    "duration": 17,
    "start_time": "2025-02-02T09:50:58.634Z"
   },
   {
    "duration": 23,
    "start_time": "2025-02-02T09:52:08.596Z"
   },
   {
    "duration": 30,
    "start_time": "2025-02-02T09:52:16.175Z"
   },
   {
    "duration": 106,
    "start_time": "2025-02-02T09:55:49.618Z"
   },
   {
    "duration": 18,
    "start_time": "2025-02-02T09:56:09.083Z"
   },
   {
    "duration": 15,
    "start_time": "2025-02-02T09:56:21.139Z"
   },
   {
    "duration": 4,
    "start_time": "2025-02-02T09:57:03.544Z"
   },
   {
    "duration": 21,
    "start_time": "2025-02-02T09:57:10.336Z"
   },
   {
    "duration": 23,
    "start_time": "2025-02-02T09:57:12.011Z"
   },
   {
    "duration": 14,
    "start_time": "2025-02-02T09:57:26.159Z"
   },
   {
    "duration": 1052,
    "start_time": "2025-02-02T09:57:26.755Z"
   },
   {
    "duration": 12,
    "start_time": "2025-02-02T09:59:05.835Z"
   },
   {
    "duration": 14,
    "start_time": "2025-02-02T09:59:13.128Z"
   },
   {
    "duration": 275,
    "start_time": "2025-02-02T10:00:47.627Z"
   },
   {
    "duration": 4,
    "start_time": "2025-02-02T10:01:14.723Z"
   },
   {
    "duration": 14,
    "start_time": "2025-02-02T10:01:35.291Z"
   },
   {
    "duration": 12,
    "start_time": "2025-02-02T10:01:42.517Z"
   },
   {
    "duration": 4,
    "start_time": "2025-02-02T10:01:57.217Z"
   },
   {
    "duration": 13,
    "start_time": "2025-02-02T10:01:58.399Z"
   },
   {
    "duration": 257,
    "start_time": "2025-02-02T10:02:27.947Z"
   },
   {
    "duration": 11,
    "start_time": "2025-02-02T10:03:11.560Z"
   },
   {
    "duration": 14,
    "start_time": "2025-02-02T10:03:16.299Z"
   },
   {
    "duration": 13,
    "start_time": "2025-02-02T10:05:23.920Z"
   },
   {
    "duration": 618,
    "start_time": "2025-02-02T10:05:32.646Z"
   },
   {
    "duration": 68,
    "start_time": "2025-02-02T10:05:33.266Z"
   },
   {
    "duration": 24,
    "start_time": "2025-02-02T10:05:33.336Z"
   },
   {
    "duration": 28,
    "start_time": "2025-02-02T10:05:33.361Z"
   },
   {
    "duration": 18,
    "start_time": "2025-02-02T10:05:33.391Z"
   },
   {
    "duration": 6,
    "start_time": "2025-02-02T10:05:33.411Z"
   },
   {
    "duration": 23,
    "start_time": "2025-02-02T10:05:33.418Z"
   },
   {
    "duration": 9,
    "start_time": "2025-02-02T10:05:33.443Z"
   },
   {
    "duration": 7,
    "start_time": "2025-02-02T10:05:33.454Z"
   },
   {
    "duration": 8,
    "start_time": "2025-02-02T10:05:33.463Z"
   },
   {
    "duration": 210,
    "start_time": "2025-02-02T10:05:33.473Z"
   },
   {
    "duration": 6,
    "start_time": "2025-02-02T10:05:33.685Z"
   },
   {
    "duration": 121,
    "start_time": "2025-02-02T10:05:33.693Z"
   },
   {
    "duration": 6,
    "start_time": "2025-02-02T10:05:33.818Z"
   },
   {
    "duration": 171,
    "start_time": "2025-02-02T10:05:33.825Z"
   },
   {
    "duration": 319,
    "start_time": "2025-02-02T10:05:33.997Z"
   },
   {
    "duration": 98,
    "start_time": "2025-02-02T10:05:34.317Z"
   },
   {
    "duration": 257,
    "start_time": "2025-02-02T10:05:34.417Z"
   },
   {
    "duration": 269,
    "start_time": "2025-02-02T10:05:34.676Z"
   },
   {
    "duration": 104,
    "start_time": "2025-02-02T10:05:34.947Z"
   },
   {
    "duration": 277,
    "start_time": "2025-02-02T10:05:35.053Z"
   },
   {
    "duration": 18,
    "start_time": "2025-02-02T10:05:35.332Z"
   },
   {
    "duration": 15,
    "start_time": "2025-02-02T10:05:35.352Z"
   },
   {
    "duration": 10,
    "start_time": "2025-02-02T10:05:35.369Z"
   },
   {
    "duration": 199,
    "start_time": "2025-02-02T10:05:35.380Z"
   },
   {
    "duration": 176,
    "start_time": "2025-02-02T10:05:35.581Z"
   },
   {
    "duration": 14,
    "start_time": "2025-02-02T10:05:35.759Z"
   },
   {
    "duration": 13,
    "start_time": "2025-02-02T10:05:35.774Z"
   },
   {
    "duration": 31,
    "start_time": "2025-02-02T10:05:35.789Z"
   },
   {
    "duration": 20,
    "start_time": "2025-02-02T10:05:35.822Z"
   },
   {
    "duration": 107,
    "start_time": "2025-02-02T10:05:35.844Z"
   },
   {
    "duration": 8,
    "start_time": "2025-02-02T10:05:35.953Z"
   },
   {
    "duration": 23,
    "start_time": "2025-02-02T10:05:35.963Z"
   },
   {
    "duration": 19,
    "start_time": "2025-02-02T10:07:03.060Z"
   },
   {
    "duration": 11,
    "start_time": "2025-02-02T10:07:06.458Z"
   },
   {
    "duration": 12,
    "start_time": "2025-02-02T10:08:23.966Z"
   },
   {
    "duration": 1776,
    "start_time": "2025-02-02T10:08:28.913Z"
   },
   {
    "duration": 10,
    "start_time": "2025-02-02T10:08:35.483Z"
   },
   {
    "duration": 20,
    "start_time": "2025-02-02T10:08:48.376Z"
   },
   {
    "duration": 12,
    "start_time": "2025-02-02T10:08:48.650Z"
   },
   {
    "duration": 11,
    "start_time": "2025-02-02T10:08:49.602Z"
   },
   {
    "duration": 13,
    "start_time": "2025-02-02T10:09:08.758Z"
   },
   {
    "duration": 13,
    "start_time": "2025-02-02T10:09:11.648Z"
   },
   {
    "duration": 14,
    "start_time": "2025-02-02T10:12:09.565Z"
   },
   {
    "duration": 14,
    "start_time": "2025-02-02T10:12:10.691Z"
   },
   {
    "duration": 62,
    "start_time": "2025-02-02T10:12:18.640Z"
   },
   {
    "duration": 1114,
    "start_time": "2025-02-02T10:12:31.717Z"
   },
   {
    "duration": 0,
    "start_time": "2025-02-02T10:12:32.833Z"
   },
   {
    "duration": 13,
    "start_time": "2025-02-02T10:13:22.193Z"
   },
   {
    "duration": 14,
    "start_time": "2025-02-02T10:13:23.650Z"
   },
   {
    "duration": 149,
    "start_time": "2025-02-02T10:13:58.229Z"
   },
   {
    "duration": 20,
    "start_time": "2025-02-02T10:13:59.712Z"
   },
   {
    "duration": 1744,
    "start_time": "2025-02-02T10:18:49.862Z"
   },
   {
    "duration": 1407,
    "start_time": "2025-02-02T10:19:06.683Z"
   },
   {
    "duration": 23,
    "start_time": "2025-02-02T10:19:33.662Z"
   },
   {
    "duration": 58,
    "start_time": "2025-02-02T10:22:16.335Z"
   },
   {
    "duration": 56,
    "start_time": "2025-02-02T10:24:12.048Z"
   },
   {
    "duration": 69,
    "start_time": "2025-02-02T10:24:15.298Z"
   },
   {
    "duration": 12,
    "start_time": "2025-02-02T10:24:50.130Z"
   },
   {
    "duration": 4,
    "start_time": "2025-02-02T10:25:56.737Z"
   },
   {
    "duration": 13,
    "start_time": "2025-02-02T10:26:12.010Z"
   },
   {
    "duration": 160,
    "start_time": "2025-02-02T10:26:17.431Z"
   },
   {
    "duration": 5,
    "start_time": "2025-02-02T10:26:17.813Z"
   },
   {
    "duration": 19,
    "start_time": "2025-02-02T10:26:18.234Z"
   },
   {
    "duration": 19,
    "start_time": "2025-02-02T10:29:23.876Z"
   },
   {
    "duration": 18,
    "start_time": "2025-02-02T10:29:24.630Z"
   },
   {
    "duration": 18,
    "start_time": "2025-02-02T10:29:35.879Z"
   },
   {
    "duration": 17,
    "start_time": "2025-02-02T10:29:40.802Z"
   },
   {
    "duration": 12,
    "start_time": "2025-02-02T10:29:47.179Z"
   },
   {
    "duration": 17,
    "start_time": "2025-02-02T10:29:59.912Z"
   },
   {
    "duration": 19,
    "start_time": "2025-02-02T10:30:07.380Z"
   },
   {
    "duration": 172,
    "start_time": "2025-02-02T10:31:59.406Z"
   },
   {
    "duration": 20,
    "start_time": "2025-02-02T10:32:06.343Z"
   },
   {
    "duration": 12,
    "start_time": "2025-02-02T10:36:46.844Z"
   },
   {
    "duration": 11,
    "start_time": "2025-02-02T10:39:07.099Z"
   },
   {
    "duration": 170,
    "start_time": "2025-02-02T10:40:55.460Z"
   },
   {
    "duration": 26,
    "start_time": "2025-02-02T10:41:01.658Z"
   },
   {
    "duration": 168,
    "start_time": "2025-02-02T10:42:05.560Z"
   },
   {
    "duration": 22,
    "start_time": "2025-02-02T10:42:06.629Z"
   },
   {
    "duration": 60,
    "start_time": "2025-02-02T10:42:18.920Z"
   },
   {
    "duration": 166,
    "start_time": "2025-02-02T10:42:27.661Z"
   },
   {
    "duration": 26,
    "start_time": "2025-02-02T10:42:28.525Z"
   },
   {
    "duration": 1051,
    "start_time": "2025-02-02T10:43:59.692Z"
   },
   {
    "duration": 942,
    "start_time": "2025-02-02T10:44:20.176Z"
   },
   {
    "duration": 29,
    "start_time": "2025-02-02T10:44:24.531Z"
   },
   {
    "duration": 157,
    "start_time": "2025-02-02T10:44:48.182Z"
   },
   {
    "duration": 18,
    "start_time": "2025-02-02T10:44:48.650Z"
   },
   {
    "duration": 174,
    "start_time": "2025-02-02T10:45:07.176Z"
   },
   {
    "duration": 23,
    "start_time": "2025-02-02T10:45:07.397Z"
   },
   {
    "duration": 1077,
    "start_time": "2025-02-02T10:49:34.242Z"
   },
   {
    "duration": 1035,
    "start_time": "2025-02-02T10:49:48.589Z"
   },
   {
    "duration": 24,
    "start_time": "2025-02-02T10:50:01.318Z"
   },
   {
    "duration": 23,
    "start_time": "2025-02-02T10:56:07.968Z"
   },
   {
    "duration": 27,
    "start_time": "2025-02-02T10:56:37.070Z"
   },
   {
    "duration": 18,
    "start_time": "2025-02-02T10:57:01.648Z"
   },
   {
    "duration": 14,
    "start_time": "2025-02-02T10:57:15.948Z"
   },
   {
    "duration": 62,
    "start_time": "2025-02-02T10:57:28.951Z"
   },
   {
    "duration": 8,
    "start_time": "2025-02-02T10:57:40.650Z"
   },
   {
    "duration": 647,
    "start_time": "2025-02-02T10:57:48.921Z"
   },
   {
    "duration": 69,
    "start_time": "2025-02-02T10:57:49.570Z"
   },
   {
    "duration": 27,
    "start_time": "2025-02-02T10:57:49.641Z"
   },
   {
    "duration": 30,
    "start_time": "2025-02-02T10:57:49.670Z"
   },
   {
    "duration": 14,
    "start_time": "2025-02-02T10:57:49.701Z"
   },
   {
    "duration": 7,
    "start_time": "2025-02-02T10:57:49.717Z"
   },
   {
    "duration": 21,
    "start_time": "2025-02-02T10:57:49.725Z"
   },
   {
    "duration": 6,
    "start_time": "2025-02-02T10:57:49.747Z"
   },
   {
    "duration": 5,
    "start_time": "2025-02-02T10:57:49.755Z"
   },
   {
    "duration": 5,
    "start_time": "2025-02-02T10:57:49.763Z"
   },
   {
    "duration": 206,
    "start_time": "2025-02-02T10:57:49.770Z"
   },
   {
    "duration": 6,
    "start_time": "2025-02-02T10:57:49.978Z"
   },
   {
    "duration": 113,
    "start_time": "2025-02-02T10:57:49.985Z"
   },
   {
    "duration": 13,
    "start_time": "2025-02-02T10:57:50.100Z"
   },
   {
    "duration": 175,
    "start_time": "2025-02-02T10:57:50.115Z"
   },
   {
    "duration": 330,
    "start_time": "2025-02-02T10:57:50.292Z"
   },
   {
    "duration": 99,
    "start_time": "2025-02-02T10:57:50.624Z"
   },
   {
    "duration": 262,
    "start_time": "2025-02-02T10:57:50.724Z"
   },
   {
    "duration": 270,
    "start_time": "2025-02-02T10:57:50.988Z"
   },
   {
    "duration": 105,
    "start_time": "2025-02-02T10:57:51.260Z"
   },
   {
    "duration": 280,
    "start_time": "2025-02-02T10:57:51.366Z"
   },
   {
    "duration": 17,
    "start_time": "2025-02-02T10:57:51.647Z"
   },
   {
    "duration": 14,
    "start_time": "2025-02-02T10:57:51.665Z"
   },
   {
    "duration": 8,
    "start_time": "2025-02-02T10:57:51.681Z"
   },
   {
    "duration": 161,
    "start_time": "2025-02-02T10:57:51.708Z"
   },
   {
    "duration": 174,
    "start_time": "2025-02-02T10:57:51.871Z"
   },
   {
    "duration": 171,
    "start_time": "2025-02-02T10:57:52.047Z"
   },
   {
    "duration": 23,
    "start_time": "2025-02-02T10:57:52.222Z"
   },
   {
    "duration": 17,
    "start_time": "2025-02-02T10:57:52.247Z"
   },
   {
    "duration": 9,
    "start_time": "2025-02-02T10:57:52.265Z"
   },
   {
    "duration": 7,
    "start_time": "2025-02-02T10:57:52.275Z"
   },
   {
    "duration": 80,
    "start_time": "2025-02-02T10:59:56.889Z"
   },
   {
    "duration": 11,
    "start_time": "2025-02-02T11:00:40.658Z"
   },
   {
    "duration": 661,
    "start_time": "2025-02-02T11:01:12.248Z"
   },
   {
    "duration": 74,
    "start_time": "2025-02-02T11:01:12.912Z"
   },
   {
    "duration": 25,
    "start_time": "2025-02-02T11:01:12.988Z"
   },
   {
    "duration": 29,
    "start_time": "2025-02-02T11:01:13.015Z"
   },
   {
    "duration": 11,
    "start_time": "2025-02-02T11:01:13.045Z"
   },
   {
    "duration": 6,
    "start_time": "2025-02-02T11:01:13.058Z"
   },
   {
    "duration": 46,
    "start_time": "2025-02-02T11:01:13.066Z"
   },
   {
    "duration": 6,
    "start_time": "2025-02-02T11:01:13.114Z"
   },
   {
    "duration": 4,
    "start_time": "2025-02-02T11:01:13.122Z"
   },
   {
    "duration": 5,
    "start_time": "2025-02-02T11:01:13.129Z"
   },
   {
    "duration": 197,
    "start_time": "2025-02-02T11:01:13.136Z"
   },
   {
    "duration": 6,
    "start_time": "2025-02-02T11:01:13.335Z"
   },
   {
    "duration": 125,
    "start_time": "2025-02-02T11:01:13.342Z"
   },
   {
    "duration": 5,
    "start_time": "2025-02-02T11:01:13.469Z"
   },
   {
    "duration": 179,
    "start_time": "2025-02-02T11:01:13.475Z"
   },
   {
    "duration": 326,
    "start_time": "2025-02-02T11:01:13.656Z"
   },
   {
    "duration": 99,
    "start_time": "2025-02-02T11:01:13.983Z"
   },
   {
    "duration": 295,
    "start_time": "2025-02-02T11:01:14.083Z"
   },
   {
    "duration": 279,
    "start_time": "2025-02-02T11:01:14.380Z"
   },
   {
    "duration": 129,
    "start_time": "2025-02-02T11:01:14.661Z"
   },
   {
    "duration": 300,
    "start_time": "2025-02-02T11:01:14.792Z"
   },
   {
    "duration": 32,
    "start_time": "2025-02-02T11:01:15.094Z"
   },
   {
    "duration": 14,
    "start_time": "2025-02-02T11:01:15.128Z"
   },
   {
    "duration": 9,
    "start_time": "2025-02-02T11:01:15.143Z"
   },
   {
    "duration": 195,
    "start_time": "2025-02-02T11:01:15.154Z"
   },
   {
    "duration": 185,
    "start_time": "2025-02-02T11:01:15.351Z"
   },
   {
    "duration": 185,
    "start_time": "2025-02-02T11:01:15.537Z"
   },
   {
    "duration": 90,
    "start_time": "2025-02-02T11:01:15.725Z"
   },
   {
    "duration": 14,
    "start_time": "2025-02-02T11:02:46.255Z"
   },
   {
    "duration": 20,
    "start_time": "2025-02-02T11:02:58.366Z"
   },
   {
    "duration": 750,
    "start_time": "2025-02-02T11:03:54.428Z"
   },
   {
    "duration": 754,
    "start_time": "2025-02-02T11:04:06.609Z"
   },
   {
    "duration": 16,
    "start_time": "2025-02-02T11:04:17.151Z"
   },
   {
    "duration": 18,
    "start_time": "2025-02-02T11:05:46.521Z"
   },
   {
    "duration": 183,
    "start_time": "2025-02-02T11:06:02.338Z"
   },
   {
    "duration": 20,
    "start_time": "2025-02-02T11:06:02.743Z"
   },
   {
    "duration": 11,
    "start_time": "2025-02-02T11:06:13.282Z"
   },
   {
    "duration": 14,
    "start_time": "2025-02-02T11:06:35.396Z"
   },
   {
    "duration": 87,
    "start_time": "2025-02-02T11:06:45.476Z"
   },
   {
    "duration": 14,
    "start_time": "2025-02-02T11:06:50.088Z"
   },
   {
    "duration": 15,
    "start_time": "2025-02-02T11:06:59.186Z"
   },
   {
    "duration": 12,
    "start_time": "2025-02-02T11:08:54.446Z"
   },
   {
    "duration": 11,
    "start_time": "2025-02-02T11:09:03.195Z"
   },
   {
    "duration": 15,
    "start_time": "2025-02-02T11:09:11.014Z"
   },
   {
    "duration": 156,
    "start_time": "2025-02-02T11:09:50.460Z"
   },
   {
    "duration": 162,
    "start_time": "2025-02-02T11:09:59.502Z"
   },
   {
    "duration": 661,
    "start_time": "2025-02-02T11:10:17.249Z"
   },
   {
    "duration": 82,
    "start_time": "2025-02-02T11:10:17.912Z"
   },
   {
    "duration": 26,
    "start_time": "2025-02-02T11:10:17.996Z"
   },
   {
    "duration": 30,
    "start_time": "2025-02-02T11:10:18.024Z"
   },
   {
    "duration": 11,
    "start_time": "2025-02-02T11:10:18.056Z"
   },
   {
    "duration": 17,
    "start_time": "2025-02-02T11:10:18.069Z"
   },
   {
    "duration": 58,
    "start_time": "2025-02-02T11:10:18.088Z"
   },
   {
    "duration": 11,
    "start_time": "2025-02-02T11:10:18.148Z"
   },
   {
    "duration": 4,
    "start_time": "2025-02-02T11:10:18.161Z"
   },
   {
    "duration": 7,
    "start_time": "2025-02-02T11:10:18.167Z"
   },
   {
    "duration": 180,
    "start_time": "2025-02-02T11:10:18.175Z"
   },
   {
    "duration": 6,
    "start_time": "2025-02-02T11:10:18.356Z"
   },
   {
    "duration": 121,
    "start_time": "2025-02-02T11:10:18.364Z"
   },
   {
    "duration": 6,
    "start_time": "2025-02-02T11:10:18.488Z"
   },
   {
    "duration": 193,
    "start_time": "2025-02-02T11:10:18.496Z"
   },
   {
    "duration": 385,
    "start_time": "2025-02-02T11:10:18.691Z"
   },
   {
    "duration": 100,
    "start_time": "2025-02-02T11:10:19.079Z"
   },
   {
    "duration": 267,
    "start_time": "2025-02-02T11:10:19.181Z"
   },
   {
    "duration": 291,
    "start_time": "2025-02-02T11:10:19.450Z"
   },
   {
    "duration": 110,
    "start_time": "2025-02-02T11:10:19.743Z"
   },
   {
    "duration": 302,
    "start_time": "2025-02-02T11:10:19.854Z"
   },
   {
    "duration": 18,
    "start_time": "2025-02-02T11:10:20.157Z"
   },
   {
    "duration": 14,
    "start_time": "2025-02-02T11:10:20.177Z"
   },
   {
    "duration": 23,
    "start_time": "2025-02-02T11:10:20.193Z"
   },
   {
    "duration": 175,
    "start_time": "2025-02-02T11:10:20.218Z"
   },
   {
    "duration": 178,
    "start_time": "2025-02-02T11:10:20.395Z"
   },
   {
    "duration": 188,
    "start_time": "2025-02-02T11:10:20.575Z"
   },
   {
    "duration": 88,
    "start_time": "2025-02-02T11:10:20.765Z"
   },
   {
    "duration": 12,
    "start_time": "2025-02-02T11:10:48.149Z"
   },
   {
    "duration": 164,
    "start_time": "2025-02-02T11:17:00.721Z"
   },
   {
    "duration": 158,
    "start_time": "2025-02-02T11:17:06.043Z"
   },
   {
    "duration": 158,
    "start_time": "2025-02-02T11:17:17.728Z"
   },
   {
    "duration": 159,
    "start_time": "2025-02-02T11:19:00.559Z"
   },
   {
    "duration": 486,
    "start_time": "2025-02-02T11:19:06.025Z"
   },
   {
    "duration": 161,
    "start_time": "2025-02-02T11:19:28.016Z"
   },
   {
    "duration": 89,
    "start_time": "2025-02-02T11:20:32.149Z"
   },
   {
    "duration": 78,
    "start_time": "2025-02-02T11:20:57.818Z"
   },
   {
    "duration": 76,
    "start_time": "2025-02-02T11:21:04.295Z"
   },
   {
    "duration": 662,
    "start_time": "2025-02-02T11:21:11.486Z"
   },
   {
    "duration": 79,
    "start_time": "2025-02-02T11:21:12.150Z"
   },
   {
    "duration": 30,
    "start_time": "2025-02-02T11:21:12.231Z"
   },
   {
    "duration": 29,
    "start_time": "2025-02-02T11:21:12.263Z"
   },
   {
    "duration": 21,
    "start_time": "2025-02-02T11:21:12.294Z"
   },
   {
    "duration": 7,
    "start_time": "2025-02-02T11:21:12.317Z"
   },
   {
    "duration": 19,
    "start_time": "2025-02-02T11:21:12.326Z"
   },
   {
    "duration": 6,
    "start_time": "2025-02-02T11:21:12.347Z"
   },
   {
    "duration": 9,
    "start_time": "2025-02-02T11:21:12.354Z"
   },
   {
    "duration": 5,
    "start_time": "2025-02-02T11:21:12.366Z"
   },
   {
    "duration": 210,
    "start_time": "2025-02-02T11:21:12.373Z"
   },
   {
    "duration": 5,
    "start_time": "2025-02-02T11:21:12.585Z"
   },
   {
    "duration": 117,
    "start_time": "2025-02-02T11:21:12.592Z"
   },
   {
    "duration": 6,
    "start_time": "2025-02-02T11:21:12.711Z"
   },
   {
    "duration": 201,
    "start_time": "2025-02-02T11:21:12.718Z"
   },
   {
    "duration": 315,
    "start_time": "2025-02-02T11:21:12.921Z"
   },
   {
    "duration": 99,
    "start_time": "2025-02-02T11:21:13.238Z"
   },
   {
    "duration": 239,
    "start_time": "2025-02-02T11:21:13.339Z"
   },
   {
    "duration": 256,
    "start_time": "2025-02-02T11:21:13.579Z"
   },
   {
    "duration": 100,
    "start_time": "2025-02-02T11:21:13.837Z"
   },
   {
    "duration": 265,
    "start_time": "2025-02-02T11:21:13.938Z"
   },
   {
    "duration": 17,
    "start_time": "2025-02-02T11:21:14.205Z"
   },
   {
    "duration": 22,
    "start_time": "2025-02-02T11:21:14.224Z"
   },
   {
    "duration": 8,
    "start_time": "2025-02-02T11:21:14.248Z"
   },
   {
    "duration": 162,
    "start_time": "2025-02-02T11:21:14.257Z"
   },
   {
    "duration": 162,
    "start_time": "2025-02-02T11:21:14.420Z"
   },
   {
    "duration": 60,
    "start_time": "2025-02-02T11:21:14.583Z"
   },
   {
    "duration": 0,
    "start_time": "2025-02-02T11:21:14.644Z"
   },
   {
    "duration": 159,
    "start_time": "2025-02-02T11:21:59.065Z"
   },
   {
    "duration": 236,
    "start_time": "2025-02-02T11:22:51.639Z"
   },
   {
    "duration": 236,
    "start_time": "2025-02-02T11:23:55.514Z"
   },
   {
    "duration": 608,
    "start_time": "2025-02-02T11:24:05.467Z"
   },
   {
    "duration": 70,
    "start_time": "2025-02-02T11:24:06.077Z"
   },
   {
    "duration": 26,
    "start_time": "2025-02-02T11:24:06.148Z"
   },
   {
    "duration": 29,
    "start_time": "2025-02-02T11:24:06.175Z"
   },
   {
    "duration": 28,
    "start_time": "2025-02-02T11:24:06.205Z"
   },
   {
    "duration": 11,
    "start_time": "2025-02-02T11:24:06.235Z"
   },
   {
    "duration": 14,
    "start_time": "2025-02-02T11:24:06.248Z"
   },
   {
    "duration": 6,
    "start_time": "2025-02-02T11:24:06.263Z"
   },
   {
    "duration": 10,
    "start_time": "2025-02-02T11:24:06.270Z"
   },
   {
    "duration": 5,
    "start_time": "2025-02-02T11:24:06.282Z"
   },
   {
    "duration": 182,
    "start_time": "2025-02-02T11:24:06.289Z"
   },
   {
    "duration": 5,
    "start_time": "2025-02-02T11:24:06.473Z"
   },
   {
    "duration": 164,
    "start_time": "2025-02-02T11:24:06.480Z"
   },
   {
    "duration": 6,
    "start_time": "2025-02-02T11:24:06.645Z"
   },
   {
    "duration": 173,
    "start_time": "2025-02-02T11:24:06.652Z"
   },
   {
    "duration": 328,
    "start_time": "2025-02-02T11:24:06.827Z"
   },
   {
    "duration": 101,
    "start_time": "2025-02-02T11:24:07.157Z"
   },
   {
    "duration": 269,
    "start_time": "2025-02-02T11:24:07.260Z"
   },
   {
    "duration": 295,
    "start_time": "2025-02-02T11:24:07.530Z"
   },
   {
    "duration": 113,
    "start_time": "2025-02-02T11:24:07.827Z"
   },
   {
    "duration": 303,
    "start_time": "2025-02-02T11:24:07.942Z"
   },
   {
    "duration": 19,
    "start_time": "2025-02-02T11:24:08.247Z"
   },
   {
    "duration": 14,
    "start_time": "2025-02-02T11:24:08.267Z"
   },
   {
    "duration": 30,
    "start_time": "2025-02-02T11:24:08.282Z"
   },
   {
    "duration": 169,
    "start_time": "2025-02-02T11:24:08.314Z"
   },
   {
    "duration": 181,
    "start_time": "2025-02-02T11:24:08.484Z"
   },
   {
    "duration": 272,
    "start_time": "2025-02-02T11:24:08.666Z"
   },
   {
    "duration": 159,
    "start_time": "2025-02-02T11:24:17.736Z"
   },
   {
    "duration": 167,
    "start_time": "2025-02-02T11:24:56.701Z"
   },
   {
    "duration": 168,
    "start_time": "2025-02-02T11:25:04.567Z"
   },
   {
    "duration": 4,
    "start_time": "2025-02-02T11:25:23.797Z"
   },
   {
    "duration": 11,
    "start_time": "2025-02-02T11:25:33.447Z"
   },
   {
    "duration": 12,
    "start_time": "2025-02-02T11:26:11.977Z"
   },
   {
    "duration": 13,
    "start_time": "2025-02-02T11:27:07.003Z"
   },
   {
    "duration": 69,
    "start_time": "2025-02-02T11:28:01.937Z"
   },
   {
    "duration": 88,
    "start_time": "2025-02-02T11:28:28.564Z"
   },
   {
    "duration": 12,
    "start_time": "2025-02-02T11:28:50.088Z"
   },
   {
    "duration": 410,
    "start_time": "2025-02-02T11:31:50.844Z"
   },
   {
    "duration": 187,
    "start_time": "2025-02-02T11:32:06.809Z"
   },
   {
    "duration": 16,
    "start_time": "2025-02-02T11:33:08.965Z"
   },
   {
    "duration": 19,
    "start_time": "2025-02-02T11:34:36.264Z"
   },
   {
    "duration": 21,
    "start_time": "2025-02-02T11:35:29.418Z"
   },
   {
    "duration": 14,
    "start_time": "2025-02-02T11:37:18.694Z"
   },
   {
    "duration": 655,
    "start_time": "2025-02-02T11:37:55.771Z"
   },
   {
    "duration": 69,
    "start_time": "2025-02-02T11:37:56.428Z"
   },
   {
    "duration": 24,
    "start_time": "2025-02-02T11:37:56.498Z"
   },
   {
    "duration": 29,
    "start_time": "2025-02-02T11:37:56.524Z"
   },
   {
    "duration": 10,
    "start_time": "2025-02-02T11:37:56.554Z"
   },
   {
    "duration": 7,
    "start_time": "2025-02-02T11:37:56.565Z"
   },
   {
    "duration": 39,
    "start_time": "2025-02-02T11:37:56.574Z"
   },
   {
    "duration": 6,
    "start_time": "2025-02-02T11:37:56.615Z"
   },
   {
    "duration": 18,
    "start_time": "2025-02-02T11:37:56.622Z"
   },
   {
    "duration": 5,
    "start_time": "2025-02-02T11:37:56.643Z"
   },
   {
    "duration": 191,
    "start_time": "2025-02-02T11:37:56.650Z"
   },
   {
    "duration": 6,
    "start_time": "2025-02-02T11:37:56.842Z"
   },
   {
    "duration": 121,
    "start_time": "2025-02-02T11:37:56.849Z"
   },
   {
    "duration": 5,
    "start_time": "2025-02-02T11:37:56.972Z"
   },
   {
    "duration": 172,
    "start_time": "2025-02-02T11:37:56.979Z"
   },
   {
    "duration": 333,
    "start_time": "2025-02-02T11:37:57.153Z"
   },
   {
    "duration": 100,
    "start_time": "2025-02-02T11:37:57.487Z"
   },
   {
    "duration": 274,
    "start_time": "2025-02-02T11:37:57.589Z"
   },
   {
    "duration": 290,
    "start_time": "2025-02-02T11:37:57.864Z"
   },
   {
    "duration": 102,
    "start_time": "2025-02-02T11:37:58.156Z"
   },
   {
    "duration": 275,
    "start_time": "2025-02-02T11:37:58.260Z"
   },
   {
    "duration": 17,
    "start_time": "2025-02-02T11:37:58.537Z"
   },
   {
    "duration": 13,
    "start_time": "2025-02-02T11:37:58.556Z"
   },
   {
    "duration": 11,
    "start_time": "2025-02-02T11:37:58.570Z"
   },
   {
    "duration": 194,
    "start_time": "2025-02-02T11:37:58.583Z"
   },
   {
    "duration": 208,
    "start_time": "2025-02-02T11:37:58.779Z"
   },
   {
    "duration": 201,
    "start_time": "2025-02-02T11:37:58.988Z"
   },
   {
    "duration": 29,
    "start_time": "2025-02-02T11:37:59.192Z"
   },
   {
    "duration": 82,
    "start_time": "2025-02-02T12:47:04.143Z"
   },
   {
    "duration": 1136,
    "start_time": "2025-02-02T12:47:10.819Z"
   },
   {
    "duration": 81,
    "start_time": "2025-02-02T12:47:11.957Z"
   },
   {
    "duration": 24,
    "start_time": "2025-02-02T12:47:12.039Z"
   },
   {
    "duration": 29,
    "start_time": "2025-02-02T12:47:12.066Z"
   },
   {
    "duration": 9,
    "start_time": "2025-02-02T12:47:12.109Z"
   },
   {
    "duration": 5,
    "start_time": "2025-02-02T12:47:12.120Z"
   },
   {
    "duration": 14,
    "start_time": "2025-02-02T12:47:12.127Z"
   },
   {
    "duration": 6,
    "start_time": "2025-02-02T12:47:12.142Z"
   },
   {
    "duration": 4,
    "start_time": "2025-02-02T12:47:12.150Z"
   },
   {
    "duration": 5,
    "start_time": "2025-02-02T12:47:12.156Z"
   },
   {
    "duration": 216,
    "start_time": "2025-02-02T12:47:12.163Z"
   },
   {
    "duration": 6,
    "start_time": "2025-02-02T12:47:12.380Z"
   },
   {
    "duration": 114,
    "start_time": "2025-02-02T12:47:12.387Z"
   },
   {
    "duration": 11,
    "start_time": "2025-02-02T12:47:12.502Z"
   },
   {
    "duration": 170,
    "start_time": "2025-02-02T12:47:12.515Z"
   },
   {
    "duration": 271,
    "start_time": "2025-02-02T12:47:12.687Z"
   },
   {
    "duration": 97,
    "start_time": "2025-02-02T12:47:12.960Z"
   },
   {
    "duration": 253,
    "start_time": "2025-02-02T12:47:13.058Z"
   },
   {
    "duration": 330,
    "start_time": "2025-02-02T12:47:13.312Z"
   },
   {
    "duration": 92,
    "start_time": "2025-02-02T12:47:13.644Z"
   },
   {
    "duration": 275,
    "start_time": "2025-02-02T12:47:13.737Z"
   },
   {
    "duration": 16,
    "start_time": "2025-02-02T12:47:14.014Z"
   },
   {
    "duration": 13,
    "start_time": "2025-02-02T12:47:14.032Z"
   },
   {
    "duration": 8,
    "start_time": "2025-02-02T12:47:14.047Z"
   },
   {
    "duration": 185,
    "start_time": "2025-02-02T12:47:14.056Z"
   },
   {
    "duration": 166,
    "start_time": "2025-02-02T12:47:14.243Z"
   },
   {
    "duration": 172,
    "start_time": "2025-02-02T12:47:14.410Z"
   },
   {
    "duration": 33,
    "start_time": "2025-02-02T12:47:14.585Z"
   },
   {
    "duration": 104,
    "start_time": "2025-02-02T12:47:14.620Z"
   },
   {
    "duration": 0,
    "start_time": "2025-02-02T12:47:14.726Z"
   },
   {
    "duration": 1144,
    "start_time": "2025-02-02T12:48:36.182Z"
   },
   {
    "duration": 70,
    "start_time": "2025-02-02T12:48:37.327Z"
   },
   {
    "duration": 26,
    "start_time": "2025-02-02T12:48:37.398Z"
   },
   {
    "duration": 33,
    "start_time": "2025-02-02T12:48:37.426Z"
   },
   {
    "duration": 9,
    "start_time": "2025-02-02T12:48:37.460Z"
   },
   {
    "duration": 13,
    "start_time": "2025-02-02T12:48:37.471Z"
   },
   {
    "duration": 29,
    "start_time": "2025-02-02T12:48:37.485Z"
   },
   {
    "duration": 6,
    "start_time": "2025-02-02T12:48:37.516Z"
   },
   {
    "duration": 10,
    "start_time": "2025-02-02T12:48:37.523Z"
   },
   {
    "duration": 5,
    "start_time": "2025-02-02T12:48:37.535Z"
   },
   {
    "duration": 179,
    "start_time": "2025-02-02T12:48:37.542Z"
   },
   {
    "duration": 6,
    "start_time": "2025-02-02T12:48:37.722Z"
   },
   {
    "duration": 115,
    "start_time": "2025-02-02T12:48:37.729Z"
   },
   {
    "duration": 6,
    "start_time": "2025-02-02T12:48:37.845Z"
   },
   {
    "duration": 178,
    "start_time": "2025-02-02T12:48:37.852Z"
   },
   {
    "duration": 281,
    "start_time": "2025-02-02T12:48:38.031Z"
   },
   {
    "duration": 100,
    "start_time": "2025-02-02T12:48:38.313Z"
   },
   {
    "duration": 259,
    "start_time": "2025-02-02T12:48:38.415Z"
   },
   {
    "duration": 369,
    "start_time": "2025-02-02T12:48:38.675Z"
   },
   {
    "duration": 100,
    "start_time": "2025-02-02T12:48:39.045Z"
   },
   {
    "duration": 277,
    "start_time": "2025-02-02T12:48:39.146Z"
   },
   {
    "duration": 16,
    "start_time": "2025-02-02T12:48:39.425Z"
   },
   {
    "duration": 14,
    "start_time": "2025-02-02T12:48:39.443Z"
   },
   {
    "duration": 9,
    "start_time": "2025-02-02T12:48:39.458Z"
   },
   {
    "duration": 186,
    "start_time": "2025-02-02T12:48:39.469Z"
   },
   {
    "duration": 178,
    "start_time": "2025-02-02T12:48:39.657Z"
   },
   {
    "duration": 177,
    "start_time": "2025-02-02T12:48:39.837Z"
   },
   {
    "duration": 20,
    "start_time": "2025-02-02T12:48:40.017Z"
   },
   {
    "duration": 4,
    "start_time": "2025-02-02T12:48:40.038Z"
   },
   {
    "duration": 19,
    "start_time": "2025-02-02T12:48:40.044Z"
   },
   {
    "duration": 107,
    "start_time": "2025-02-02T12:51:02.005Z"
   },
   {
    "duration": 5,
    "start_time": "2025-02-02T12:51:10.589Z"
   },
   {
    "duration": 6,
    "start_time": "2025-02-02T12:57:19.641Z"
   },
   {
    "duration": 6,
    "start_time": "2025-02-02T12:57:36.200Z"
   },
   {
    "duration": 7,
    "start_time": "2025-02-02T13:00:55.479Z"
   },
   {
    "duration": 6,
    "start_time": "2025-02-02T13:03:07.078Z"
   },
   {
    "duration": 5,
    "start_time": "2025-02-02T13:15:35.103Z"
   },
   {
    "duration": 5,
    "start_time": "2025-02-02T13:16:09.266Z"
   },
   {
    "duration": 5,
    "start_time": "2025-02-02T13:20:31.403Z"
   },
   {
    "duration": 1159,
    "start_time": "2025-02-02T13:20:37.839Z"
   },
   {
    "duration": 84,
    "start_time": "2025-02-02T13:20:39.000Z"
   },
   {
    "duration": 25,
    "start_time": "2025-02-02T13:20:39.085Z"
   },
   {
    "duration": 29,
    "start_time": "2025-02-02T13:20:39.112Z"
   },
   {
    "duration": 9,
    "start_time": "2025-02-02T13:20:39.142Z"
   },
   {
    "duration": 5,
    "start_time": "2025-02-02T13:20:39.153Z"
   },
   {
    "duration": 16,
    "start_time": "2025-02-02T13:20:39.160Z"
   },
   {
    "duration": 36,
    "start_time": "2025-02-02T13:20:39.177Z"
   },
   {
    "duration": 4,
    "start_time": "2025-02-02T13:20:39.215Z"
   },
   {
    "duration": 5,
    "start_time": "2025-02-02T13:20:39.222Z"
   },
   {
    "duration": 184,
    "start_time": "2025-02-02T13:20:39.229Z"
   },
   {
    "duration": 5,
    "start_time": "2025-02-02T13:20:39.414Z"
   },
   {
    "duration": 115,
    "start_time": "2025-02-02T13:20:39.421Z"
   },
   {
    "duration": 5,
    "start_time": "2025-02-02T13:20:39.538Z"
   },
   {
    "duration": 175,
    "start_time": "2025-02-02T13:20:39.545Z"
   },
   {
    "duration": 270,
    "start_time": "2025-02-02T13:20:39.721Z"
   },
   {
    "duration": 93,
    "start_time": "2025-02-02T13:20:39.993Z"
   },
   {
    "duration": 254,
    "start_time": "2025-02-02T13:20:40.088Z"
   },
   {
    "duration": 324,
    "start_time": "2025-02-02T13:20:40.344Z"
   },
   {
    "duration": 95,
    "start_time": "2025-02-02T13:20:40.669Z"
   },
   {
    "duration": 274,
    "start_time": "2025-02-02T13:20:40.766Z"
   },
   {
    "duration": 17,
    "start_time": "2025-02-02T13:20:41.041Z"
   },
   {
    "duration": 14,
    "start_time": "2025-02-02T13:20:41.059Z"
   },
   {
    "duration": 9,
    "start_time": "2025-02-02T13:20:41.074Z"
   },
   {
    "duration": 182,
    "start_time": "2025-02-02T13:20:41.084Z"
   },
   {
    "duration": 163,
    "start_time": "2025-02-02T13:20:41.267Z"
   },
   {
    "duration": 173,
    "start_time": "2025-02-02T13:20:41.432Z"
   },
   {
    "duration": 19,
    "start_time": "2025-02-02T13:20:41.611Z"
   },
   {
    "duration": 5,
    "start_time": "2025-02-02T13:20:41.631Z"
   },
   {
    "duration": 17,
    "start_time": "2025-02-02T13:20:41.638Z"
   },
   {
    "duration": 6,
    "start_time": "2025-02-02T13:27:56.785Z"
   },
   {
    "duration": 5,
    "start_time": "2025-02-02T13:28:19.455Z"
   },
   {
    "duration": 5,
    "start_time": "2025-02-02T13:28:25.692Z"
   },
   {
    "duration": 167,
    "start_time": "2025-02-02T13:41:20.870Z"
   },
   {
    "duration": 29,
    "start_time": "2025-02-02T13:42:53.168Z"
   },
   {
    "duration": 42,
    "start_time": "2025-02-02T13:43:13.138Z"
   },
   {
    "duration": 30,
    "start_time": "2025-02-02T13:43:23.121Z"
   },
   {
    "duration": 6,
    "start_time": "2025-02-02T13:43:59.049Z"
   },
   {
    "duration": 7,
    "start_time": "2025-02-02T13:45:05.350Z"
   },
   {
    "duration": 25,
    "start_time": "2025-02-02T13:47:30.871Z"
   },
   {
    "duration": 6,
    "start_time": "2025-02-02T13:47:55.733Z"
   },
   {
    "duration": 2,
    "start_time": "2025-02-02T14:18:06.699Z"
   },
   {
    "duration": 9,
    "start_time": "2025-02-02T14:19:29.995Z"
   },
   {
    "duration": 3,
    "start_time": "2025-02-02T14:20:07.353Z"
   },
   {
    "duration": 1134,
    "start_time": "2025-02-02T14:20:13.347Z"
   },
   {
    "duration": 73,
    "start_time": "2025-02-02T14:20:14.483Z"
   },
   {
    "duration": 24,
    "start_time": "2025-02-02T14:20:14.558Z"
   },
   {
    "duration": 28,
    "start_time": "2025-02-02T14:20:14.584Z"
   },
   {
    "duration": 11,
    "start_time": "2025-02-02T14:20:14.613Z"
   },
   {
    "duration": 26,
    "start_time": "2025-02-02T14:20:14.625Z"
   },
   {
    "duration": 32,
    "start_time": "2025-02-02T14:20:14.653Z"
   },
   {
    "duration": 15,
    "start_time": "2025-02-02T14:20:14.687Z"
   },
   {
    "duration": 6,
    "start_time": "2025-02-02T14:20:14.703Z"
   },
   {
    "duration": 6,
    "start_time": "2025-02-02T14:20:14.713Z"
   },
   {
    "duration": 179,
    "start_time": "2025-02-02T14:20:14.721Z"
   },
   {
    "duration": 9,
    "start_time": "2025-02-02T14:20:14.902Z"
   },
   {
    "duration": 112,
    "start_time": "2025-02-02T14:20:14.912Z"
   },
   {
    "duration": 6,
    "start_time": "2025-02-02T14:20:15.025Z"
   },
   {
    "duration": 194,
    "start_time": "2025-02-02T14:20:15.033Z"
   },
   {
    "duration": 273,
    "start_time": "2025-02-02T14:20:15.229Z"
   },
   {
    "duration": 91,
    "start_time": "2025-02-02T14:20:15.504Z"
   },
   {
    "duration": 248,
    "start_time": "2025-02-02T14:20:15.610Z"
   },
   {
    "duration": 342,
    "start_time": "2025-02-02T14:20:15.860Z"
   },
   {
    "duration": 94,
    "start_time": "2025-02-02T14:20:16.203Z"
   },
   {
    "duration": 287,
    "start_time": "2025-02-02T14:20:16.299Z"
   },
   {
    "duration": 21,
    "start_time": "2025-02-02T14:20:16.588Z"
   },
   {
    "duration": 15,
    "start_time": "2025-02-02T14:20:16.611Z"
   },
   {
    "duration": 8,
    "start_time": "2025-02-02T14:20:16.628Z"
   },
   {
    "duration": 176,
    "start_time": "2025-02-02T14:20:16.638Z"
   },
   {
    "duration": 211,
    "start_time": "2025-02-02T14:20:16.816Z"
   },
   {
    "duration": 181,
    "start_time": "2025-02-02T14:20:17.029Z"
   },
   {
    "duration": 22,
    "start_time": "2025-02-02T14:20:17.213Z"
   },
   {
    "duration": 5,
    "start_time": "2025-02-02T14:20:17.237Z"
   },
   {
    "duration": 5,
    "start_time": "2025-02-02T14:20:17.243Z"
   },
   {
    "duration": 73,
    "start_time": "2025-02-02T14:20:17.249Z"
   },
   {
    "duration": 7,
    "start_time": "2025-02-02T14:20:17.324Z"
   },
   {
    "duration": 5,
    "start_time": "2025-02-02T14:20:17.332Z"
   },
   {
    "duration": 140,
    "start_time": "2025-02-02T14:20:17.339Z"
   },
   {
    "duration": 4,
    "start_time": "2025-02-02T14:21:03.363Z"
   },
   {
    "duration": 4,
    "start_time": "2025-02-02T14:24:06.553Z"
   },
   {
    "duration": 6,
    "start_time": "2025-02-02T14:24:57.759Z"
   },
   {
    "duration": 5,
    "start_time": "2025-02-02T14:25:09.283Z"
   },
   {
    "duration": 6,
    "start_time": "2025-02-02T14:25:18.255Z"
   },
   {
    "duration": 83,
    "start_time": "2025-02-03T08:16:35.901Z"
   },
   {
    "duration": 75,
    "start_time": "2025-02-03T08:27:11.450Z"
   },
   {
    "duration": 1531,
    "start_time": "2025-02-03T08:27:16.487Z"
   },
   {
    "duration": 72,
    "start_time": "2025-02-03T08:27:18.020Z"
   },
   {
    "duration": 44,
    "start_time": "2025-02-03T08:27:18.094Z"
   },
   {
    "duration": 38,
    "start_time": "2025-02-03T08:27:18.141Z"
   },
   {
    "duration": 26,
    "start_time": "2025-02-03T08:27:18.181Z"
   },
   {
    "duration": 10,
    "start_time": "2025-02-03T08:27:18.210Z"
   },
   {
    "duration": 62,
    "start_time": "2025-02-03T08:27:18.222Z"
   },
   {
    "duration": 10,
    "start_time": "2025-02-03T08:27:18.286Z"
   },
   {
    "duration": 11,
    "start_time": "2025-02-03T08:27:18.298Z"
   },
   {
    "duration": 16,
    "start_time": "2025-02-03T08:27:18.314Z"
   },
   {
    "duration": 215,
    "start_time": "2025-02-03T08:27:18.333Z"
   },
   {
    "duration": 0,
    "start_time": "2025-02-03T08:27:18.551Z"
   },
   {
    "duration": 0,
    "start_time": "2025-02-03T08:27:18.554Z"
   },
   {
    "duration": 0,
    "start_time": "2025-02-03T08:27:18.556Z"
   },
   {
    "duration": 0,
    "start_time": "2025-02-03T08:27:18.557Z"
   },
   {
    "duration": 0,
    "start_time": "2025-02-03T08:27:18.558Z"
   },
   {
    "duration": 0,
    "start_time": "2025-02-03T08:27:18.560Z"
   },
   {
    "duration": 0,
    "start_time": "2025-02-03T08:27:18.562Z"
   },
   {
    "duration": 0,
    "start_time": "2025-02-03T08:27:18.563Z"
   },
   {
    "duration": 0,
    "start_time": "2025-02-03T08:27:18.565Z"
   },
   {
    "duration": 0,
    "start_time": "2025-02-03T08:27:18.566Z"
   },
   {
    "duration": 0,
    "start_time": "2025-02-03T08:27:18.567Z"
   },
   {
    "duration": 0,
    "start_time": "2025-02-03T08:27:18.569Z"
   },
   {
    "duration": 0,
    "start_time": "2025-02-03T08:27:18.570Z"
   },
   {
    "duration": 0,
    "start_time": "2025-02-03T08:27:18.604Z"
   },
   {
    "duration": 0,
    "start_time": "2025-02-03T08:27:18.605Z"
   },
   {
    "duration": 0,
    "start_time": "2025-02-03T08:27:18.606Z"
   },
   {
    "duration": 0,
    "start_time": "2025-02-03T08:27:18.612Z"
   },
   {
    "duration": 0,
    "start_time": "2025-02-03T08:27:18.617Z"
   },
   {
    "duration": 0,
    "start_time": "2025-02-03T08:27:18.618Z"
   },
   {
    "duration": 0,
    "start_time": "2025-02-03T08:27:18.619Z"
   },
   {
    "duration": 0,
    "start_time": "2025-02-03T08:27:18.620Z"
   },
   {
    "duration": 0,
    "start_time": "2025-02-03T08:27:18.622Z"
   },
   {
    "duration": 0,
    "start_time": "2025-02-03T08:27:18.623Z"
   },
   {
    "duration": 215,
    "start_time": "2025-02-03T08:27:35.576Z"
   },
   {
    "duration": 76,
    "start_time": "2025-02-03T08:52:52.919Z"
   },
   {
    "duration": 281,
    "start_time": "2025-02-03T08:54:01.733Z"
   },
   {
    "duration": 227,
    "start_time": "2025-02-03T08:54:06.384Z"
   },
   {
    "duration": 248,
    "start_time": "2025-02-03T08:54:13.177Z"
   },
   {
    "duration": 243,
    "start_time": "2025-02-03T08:54:24.229Z"
   },
   {
    "duration": 229,
    "start_time": "2025-02-03T08:55:24.677Z"
   },
   {
    "duration": 210,
    "start_time": "2025-02-03T08:56:04.282Z"
   },
   {
    "duration": 73,
    "start_time": "2025-02-03T08:57:10.682Z"
   },
   {
    "duration": 213,
    "start_time": "2025-02-03T08:57:14.542Z"
   },
   {
    "duration": 239,
    "start_time": "2025-02-03T08:57:41.010Z"
   },
   {
    "duration": 292,
    "start_time": "2025-02-03T08:57:49.111Z"
   },
   {
    "duration": 232,
    "start_time": "2025-02-03T08:58:16.943Z"
   },
   {
    "duration": 1407,
    "start_time": "2025-02-03T08:58:46.843Z"
   },
   {
    "duration": 86,
    "start_time": "2025-02-03T08:58:48.252Z"
   },
   {
    "duration": 30,
    "start_time": "2025-02-03T08:58:48.340Z"
   },
   {
    "duration": 91,
    "start_time": "2025-02-03T08:58:48.371Z"
   },
   {
    "duration": 12,
    "start_time": "2025-02-03T08:58:48.464Z"
   },
   {
    "duration": 8,
    "start_time": "2025-02-03T08:58:48.477Z"
   },
   {
    "duration": 18,
    "start_time": "2025-02-03T08:58:48.487Z"
   },
   {
    "duration": 12,
    "start_time": "2025-02-03T08:58:48.506Z"
   },
   {
    "duration": 15,
    "start_time": "2025-02-03T08:58:48.520Z"
   },
   {
    "duration": 10,
    "start_time": "2025-02-03T08:58:48.538Z"
   },
   {
    "duration": 290,
    "start_time": "2025-02-03T08:58:48.551Z"
   },
   {
    "duration": 10,
    "start_time": "2025-02-03T08:58:48.844Z"
   },
   {
    "duration": 183,
    "start_time": "2025-02-03T08:58:48.856Z"
   },
   {
    "duration": 8,
    "start_time": "2025-02-03T08:58:49.043Z"
   },
   {
    "duration": 243,
    "start_time": "2025-02-03T08:58:49.054Z"
   },
   {
    "duration": 361,
    "start_time": "2025-02-03T08:58:49.302Z"
   },
   {
    "duration": 129,
    "start_time": "2025-02-03T08:58:49.666Z"
   },
   {
    "duration": 327,
    "start_time": "2025-02-03T08:58:49.799Z"
   },
   {
    "duration": 511,
    "start_time": "2025-02-03T08:58:50.128Z"
   },
   {
    "duration": 116,
    "start_time": "2025-02-03T08:58:50.641Z"
   },
   {
    "duration": 383,
    "start_time": "2025-02-03T08:58:50.759Z"
   },
   {
    "duration": 32,
    "start_time": "2025-02-03T08:58:51.144Z"
   },
   {
    "duration": 27,
    "start_time": "2025-02-03T08:58:51.178Z"
   },
   {
    "duration": 21,
    "start_time": "2025-02-03T08:58:51.207Z"
   },
   {
    "duration": 220,
    "start_time": "2025-02-03T08:58:51.231Z"
   },
   {
    "duration": 224,
    "start_time": "2025-02-03T08:58:51.453Z"
   },
   {
    "duration": 263,
    "start_time": "2025-02-03T08:58:51.680Z"
   },
   {
    "duration": 25,
    "start_time": "2025-02-03T08:58:51.945Z"
   },
   {
    "duration": 15,
    "start_time": "2025-02-03T08:58:51.972Z"
   },
   {
    "duration": 17,
    "start_time": "2025-02-03T08:58:51.989Z"
   },
   {
    "duration": 40,
    "start_time": "2025-02-03T08:58:52.010Z"
   },
   {
    "duration": 9,
    "start_time": "2025-02-03T08:58:52.053Z"
   },
   {
    "duration": 7,
    "start_time": "2025-02-03T08:58:52.064Z"
   },
   {
    "duration": 39,
    "start_time": "2025-02-03T08:58:52.072Z"
   },
   {
    "duration": 272,
    "start_time": "2025-02-03T09:00:16.966Z"
   },
   {
    "duration": 125,
    "start_time": "2025-02-03T09:01:18.359Z"
   },
   {
    "duration": 165,
    "start_time": "2025-02-03T09:01:54.028Z"
   },
   {
    "duration": 151,
    "start_time": "2025-02-03T09:02:07.521Z"
   },
   {
    "duration": 137,
    "start_time": "2025-02-03T09:02:14.283Z"
   },
   {
    "duration": 234,
    "start_time": "2025-02-03T09:02:41.150Z"
   },
   {
    "duration": 132,
    "start_time": "2025-02-03T09:03:05.542Z"
   },
   {
    "duration": 140,
    "start_time": "2025-02-03T09:03:45.341Z"
   },
   {
    "duration": 83,
    "start_time": "2025-02-03T09:05:15.711Z"
   },
   {
    "duration": 1357,
    "start_time": "2025-02-03T09:05:45.428Z"
   },
   {
    "duration": 85,
    "start_time": "2025-02-03T09:05:46.789Z"
   },
   {
    "duration": 28,
    "start_time": "2025-02-03T09:05:46.876Z"
   },
   {
    "duration": 47,
    "start_time": "2025-02-03T09:05:46.906Z"
   },
   {
    "duration": 15,
    "start_time": "2025-02-03T09:05:46.957Z"
   },
   {
    "duration": 10,
    "start_time": "2025-02-03T09:05:46.974Z"
   },
   {
    "duration": 30,
    "start_time": "2025-02-03T09:05:47.003Z"
   },
   {
    "duration": 8,
    "start_time": "2025-02-03T09:05:47.037Z"
   },
   {
    "duration": 7,
    "start_time": "2025-02-03T09:05:47.047Z"
   },
   {
    "duration": 7,
    "start_time": "2025-02-03T09:05:47.055Z"
   },
   {
    "duration": 266,
    "start_time": "2025-02-03T09:05:47.064Z"
   },
   {
    "duration": 11,
    "start_time": "2025-02-03T09:05:47.332Z"
   },
   {
    "duration": 172,
    "start_time": "2025-02-03T09:05:47.345Z"
   },
   {
    "duration": 11,
    "start_time": "2025-02-03T09:05:47.522Z"
   },
   {
    "duration": 203,
    "start_time": "2025-02-03T09:05:47.535Z"
   },
   {
    "duration": 389,
    "start_time": "2025-02-03T09:05:47.740Z"
   },
   {
    "duration": 128,
    "start_time": "2025-02-03T09:05:48.131Z"
   },
   {
    "duration": 386,
    "start_time": "2025-02-03T09:05:48.261Z"
   },
   {
    "duration": 437,
    "start_time": "2025-02-03T09:05:48.649Z"
   },
   {
    "duration": 146,
    "start_time": "2025-02-03T09:05:49.088Z"
   },
   {
    "duration": 394,
    "start_time": "2025-02-03T09:05:49.236Z"
   },
   {
    "duration": 28,
    "start_time": "2025-02-03T09:05:49.632Z"
   },
   {
    "duration": 18,
    "start_time": "2025-02-03T09:05:49.662Z"
   },
   {
    "duration": 19,
    "start_time": "2025-02-03T09:05:49.703Z"
   },
   {
    "duration": 225,
    "start_time": "2025-02-03T09:05:49.726Z"
   },
   {
    "duration": 252,
    "start_time": "2025-02-03T09:05:49.953Z"
   },
   {
    "duration": 285,
    "start_time": "2025-02-03T09:05:50.207Z"
   },
   {
    "duration": 33,
    "start_time": "2025-02-03T09:05:50.495Z"
   },
   {
    "duration": 6,
    "start_time": "2025-02-03T09:05:50.531Z"
   },
   {
    "duration": 5,
    "start_time": "2025-02-03T09:05:50.539Z"
   },
   {
    "duration": 71,
    "start_time": "2025-02-03T09:05:50.546Z"
   },
   {
    "duration": 25,
    "start_time": "2025-02-03T09:05:50.619Z"
   },
   {
    "duration": 42,
    "start_time": "2025-02-03T09:05:50.646Z"
   },
   {
    "duration": 18,
    "start_time": "2025-02-03T09:05:50.690Z"
   },
   {
    "duration": 107,
    "start_time": "2025-02-03T09:06:39.264Z"
   },
   {
    "duration": 60,
    "start_time": "2025-02-03T09:06:44.690Z"
   },
   {
    "duration": 111,
    "start_time": "2025-02-03T09:06:51.654Z"
   },
   {
    "duration": 129,
    "start_time": "2025-02-03T09:07:06.355Z"
   },
   {
    "duration": 9,
    "start_time": "2025-02-03T09:07:42.932Z"
   },
   {
    "duration": 206,
    "start_time": "2025-02-03T09:08:19.075Z"
   },
   {
    "duration": 256,
    "start_time": "2025-02-03T09:08:30.490Z"
   },
   {
    "duration": 390,
    "start_time": "2025-02-03T09:08:40.148Z"
   },
   {
    "duration": 210,
    "start_time": "2025-02-03T09:12:35.771Z"
   },
   {
    "duration": 202,
    "start_time": "2025-02-03T09:12:49.272Z"
   },
   {
    "duration": 210,
    "start_time": "2025-02-03T09:13:24.308Z"
   },
   {
    "duration": 302,
    "start_time": "2025-02-03T09:13:47.727Z"
   },
   {
    "duration": 111,
    "start_time": "2025-02-03T09:14:13.871Z"
   },
   {
    "duration": 286,
    "start_time": "2025-02-03T09:14:45.200Z"
   },
   {
    "duration": 284,
    "start_time": "2025-02-03T09:15:00.646Z"
   },
   {
    "duration": 438,
    "start_time": "2025-02-03T09:15:08.628Z"
   },
   {
    "duration": 309,
    "start_time": "2025-02-03T09:15:36.570Z"
   },
   {
    "duration": 349,
    "start_time": "2025-02-03T09:15:40.354Z"
   },
   {
    "duration": 1277,
    "start_time": "2025-02-03T09:15:49.450Z"
   },
   {
    "duration": 68,
    "start_time": "2025-02-03T09:15:50.729Z"
   },
   {
    "duration": 36,
    "start_time": "2025-02-03T09:15:50.799Z"
   },
   {
    "duration": 33,
    "start_time": "2025-02-03T09:15:50.837Z"
   },
   {
    "duration": 34,
    "start_time": "2025-02-03T09:15:50.871Z"
   },
   {
    "duration": 10,
    "start_time": "2025-02-03T09:15:50.907Z"
   },
   {
    "duration": 28,
    "start_time": "2025-02-03T09:15:50.919Z"
   },
   {
    "duration": 13,
    "start_time": "2025-02-03T09:15:50.949Z"
   },
   {
    "duration": 7,
    "start_time": "2025-02-03T09:15:50.964Z"
   },
   {
    "duration": 27,
    "start_time": "2025-02-03T09:15:50.975Z"
   },
   {
    "duration": 218,
    "start_time": "2025-02-03T09:15:51.012Z"
   },
   {
    "duration": 6,
    "start_time": "2025-02-03T09:15:51.232Z"
   },
   {
    "duration": 154,
    "start_time": "2025-02-03T09:15:51.240Z"
   },
   {
    "duration": 16,
    "start_time": "2025-02-03T09:15:51.396Z"
   },
   {
    "duration": 205,
    "start_time": "2025-02-03T09:15:51.417Z"
   },
   {
    "duration": 7,
    "start_time": "2025-02-03T09:15:51.624Z"
   },
   {
    "duration": 351,
    "start_time": "2025-02-03T09:15:51.634Z"
   },
   {
    "duration": 125,
    "start_time": "2025-02-03T09:15:51.988Z"
   },
   {
    "duration": 275,
    "start_time": "2025-02-03T09:15:52.119Z"
   },
   {
    "duration": 406,
    "start_time": "2025-02-03T09:15:52.396Z"
   },
   {
    "duration": 114,
    "start_time": "2025-02-03T09:15:52.809Z"
   },
   {
    "duration": 332,
    "start_time": "2025-02-03T09:15:52.925Z"
   },
   {
    "duration": 19,
    "start_time": "2025-02-03T09:15:53.259Z"
   },
   {
    "duration": 39,
    "start_time": "2025-02-03T09:15:53.279Z"
   },
   {
    "duration": 11,
    "start_time": "2025-02-03T09:15:53.320Z"
   },
   {
    "duration": 202,
    "start_time": "2025-02-03T09:15:53.333Z"
   },
   {
    "duration": 212,
    "start_time": "2025-02-03T09:15:53.536Z"
   },
   {
    "duration": 233,
    "start_time": "2025-02-03T09:15:53.751Z"
   },
   {
    "duration": 39,
    "start_time": "2025-02-03T09:15:53.986Z"
   },
   {
    "duration": 12,
    "start_time": "2025-02-03T09:15:54.030Z"
   },
   {
    "duration": 9,
    "start_time": "2025-02-03T09:15:54.045Z"
   },
   {
    "duration": 63,
    "start_time": "2025-02-03T09:15:54.056Z"
   },
   {
    "duration": 16,
    "start_time": "2025-02-03T09:15:54.122Z"
   },
   {
    "duration": 12,
    "start_time": "2025-02-03T09:15:54.140Z"
   },
   {
    "duration": 8,
    "start_time": "2025-02-03T09:15:54.155Z"
   },
   {
    "duration": 238,
    "start_time": "2025-02-03T09:16:43.881Z"
   },
   {
    "duration": 233,
    "start_time": "2025-02-03T09:17:04.118Z"
   },
   {
    "duration": 237,
    "start_time": "2025-02-03T09:17:10.672Z"
   },
   {
    "duration": 289,
    "start_time": "2025-02-03T09:17:32.890Z"
   },
   {
    "duration": 403,
    "start_time": "2025-02-03T09:17:46.593Z"
   },
   {
    "duration": 334,
    "start_time": "2025-02-03T09:18:10.553Z"
   },
   {
    "duration": 326,
    "start_time": "2025-02-03T09:18:18.305Z"
   },
   {
    "duration": 64,
    "start_time": "2025-02-03T09:20:11.803Z"
   },
   {
    "duration": 232,
    "start_time": "2025-02-03T09:20:19.808Z"
   },
   {
    "duration": 204,
    "start_time": "2025-02-03T09:21:02.330Z"
   },
   {
    "duration": 22,
    "start_time": "2025-02-03T09:21:41.304Z"
   },
   {
    "duration": 19,
    "start_time": "2025-02-03T09:21:47.839Z"
   },
   {
    "duration": 9,
    "start_time": "2025-02-03T09:22:23.227Z"
   },
   {
    "duration": 14,
    "start_time": "2025-02-03T09:22:46.590Z"
   },
   {
    "duration": 9,
    "start_time": "2025-02-03T09:23:06.454Z"
   },
   {
    "duration": 201,
    "start_time": "2025-02-03T09:24:07.936Z"
   },
   {
    "duration": 300,
    "start_time": "2025-02-03T09:25:29.371Z"
   },
   {
    "duration": 230,
    "start_time": "2025-02-03T09:26:09.951Z"
   },
   {
    "duration": 351,
    "start_time": "2025-02-03T09:26:15.869Z"
   },
   {
    "duration": 195,
    "start_time": "2025-02-03T09:26:24.260Z"
   },
   {
    "duration": 211,
    "start_time": "2025-02-03T09:26:31.939Z"
   },
   {
    "duration": 431,
    "start_time": "2025-02-03T09:26:36.030Z"
   },
   {
    "duration": 78,
    "start_time": "2025-02-03T09:36:04.374Z"
   },
   {
    "duration": 7,
    "start_time": "2025-02-03T09:42:23.350Z"
   },
   {
    "duration": 6,
    "start_time": "2025-02-03T09:44:52.662Z"
   }
  ],
  "kernelspec": {
   "display_name": "Python 3 (ipykernel)",
   "language": "python",
   "name": "python3"
  },
  "language_info": {
   "codemirror_mode": {
    "name": "ipython",
    "version": 3
   },
   "file_extension": ".py",
   "mimetype": "text/x-python",
   "name": "python",
   "nbconvert_exporter": "python",
   "pygments_lexer": "ipython3",
   "version": "3.13.2"
  },
  "toc": {
   "base_numbering": 1,
   "nav_menu": {},
   "number_sections": true,
   "sideBar": true,
   "skip_h1_title": true,
   "title_cell": "Table of Contents",
   "title_sidebar": "Contents",
   "toc_cell": false,
   "toc_position": {},
   "toc_section_display": true,
   "toc_window_display": false
  }
 },
 "nbformat": 4,
 "nbformat_minor": 5
}
